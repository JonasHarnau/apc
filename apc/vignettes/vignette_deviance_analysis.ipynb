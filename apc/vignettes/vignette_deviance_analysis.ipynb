{
 "cells": [
  {
   "cell_type": "markdown",
   "metadata": {},
   "source": [
    "# Deviance analysis of age-period-cohort models\n",
    "\n",
    "We replicate [Nielsen (2014)](http://www.nuffield.ox.ac.uk/economics/papers/2014/apc_deviance.pdf). The paper considers deviance analysis to test for model reduction in age-period-cohort models. It further elaborates on the interpretation of the canonical identification of age-period-cohort effects by [Kuang et al. (2008)](https://doi.org/10.1093/biomet/asn026) and expands this parametrization to more general data structures. "
   ]
  },
  {
   "cell_type": "markdown",
   "metadata": {},
   "source": [
    "First, we load the package."
   ]
  },
  {
   "cell_type": "code",
   "execution_count": 1,
   "metadata": {},
   "outputs": [],
   "source": [
    "import apc"
   ]
  },
  {
   "cell_type": "code",
   "execution_count": 2,
   "metadata": {},
   "outputs": [],
   "source": [
    "# Turn off FutureWarnings\n",
    "import warnings\n",
    "warnings.simplefilter('ignore', FutureWarning)"
   ]
  },
  {
   "cell_type": "markdown",
   "metadata": {},
   "source": [
    "## 2.2 Data Structure\n",
    "\n",
    "Next, we look at the data. These concern lung cancer mortality in Belgium and are taken from Clayton and Schifflers (1987). Data are available for the response, that is the death counts and for mortality rates. The rates are computed as the ratio of the number of deaths to the exposure measured in 100,000 person-years."
   ]
  },
  {
   "cell_type": "markdown",
   "metadata": {},
   "source": [
    "While the data come pre-formatted with the package and can be called with ``apc.Belgian_lung_cancer()``, we could also read them from an excel or csv file, for example by loading pandas with `` import pandas as pd `` and calling `` pd.read_excel('path/to/file.xlsx') `` or `` pd.read_csv('path/to/file.csv') ``."
   ]
  },
  {
   "cell_type": "markdown",
   "metadata": {},
   "source": [
    "Table 1 consists of the responses:"
   ]
  },
  {
   "cell_type": "code",
   "execution_count": 3,
   "metadata": {},
   "outputs": [
    {
     "data": {
      "text/html": [
       "<div>\n",
       "<style scoped>\n",
       "    .dataframe tbody tr th:only-of-type {\n",
       "        vertical-align: middle;\n",
       "    }\n",
       "\n",
       "    .dataframe tbody tr th {\n",
       "        vertical-align: top;\n",
       "    }\n",
       "\n",
       "    .dataframe thead th {\n",
       "        text-align: right;\n",
       "    }\n",
       "</style>\n",
       "<table border=\"1\" class=\"dataframe\">\n",
       "  <thead>\n",
       "    <tr style=\"text-align: right;\">\n",
       "      <th></th>\n",
       "      <th>1955-1959</th>\n",
       "      <th>1960-1964</th>\n",
       "      <th>1965-1969</th>\n",
       "      <th>1970-1974</th>\n",
       "    </tr>\n",
       "    <tr>\n",
       "      <th></th>\n",
       "      <th></th>\n",
       "      <th></th>\n",
       "      <th></th>\n",
       "      <th></th>\n",
       "    </tr>\n",
       "  </thead>\n",
       "  <tbody>\n",
       "    <tr>\n",
       "      <th>25-29</th>\n",
       "      <td>3</td>\n",
       "      <td>2</td>\n",
       "      <td>7</td>\n",
       "      <td>3</td>\n",
       "    </tr>\n",
       "    <tr>\n",
       "      <th>30-34</th>\n",
       "      <td>11</td>\n",
       "      <td>16</td>\n",
       "      <td>11</td>\n",
       "      <td>10</td>\n",
       "    </tr>\n",
       "    <tr>\n",
       "      <th>35-39</th>\n",
       "      <td>11</td>\n",
       "      <td>22</td>\n",
       "      <td>24</td>\n",
       "      <td>25</td>\n",
       "    </tr>\n",
       "    <tr>\n",
       "      <th>40-44</th>\n",
       "      <td>36</td>\n",
       "      <td>44</td>\n",
       "      <td>42</td>\n",
       "      <td>53</td>\n",
       "    </tr>\n",
       "    <tr>\n",
       "      <th>45-49</th>\n",
       "      <td>77</td>\n",
       "      <td>74</td>\n",
       "      <td>68</td>\n",
       "      <td>99</td>\n",
       "    </tr>\n",
       "    <tr>\n",
       "      <th>50-54</th>\n",
       "      <td>106</td>\n",
       "      <td>131</td>\n",
       "      <td>99</td>\n",
       "      <td>142</td>\n",
       "    </tr>\n",
       "    <tr>\n",
       "      <th>55-59</th>\n",
       "      <td>157</td>\n",
       "      <td>184</td>\n",
       "      <td>189</td>\n",
       "      <td>180</td>\n",
       "    </tr>\n",
       "    <tr>\n",
       "      <th>60-64</th>\n",
       "      <td>193</td>\n",
       "      <td>232</td>\n",
       "      <td>262</td>\n",
       "      <td>249</td>\n",
       "    </tr>\n",
       "    <tr>\n",
       "      <th>65-69</th>\n",
       "      <td>219</td>\n",
       "      <td>267</td>\n",
       "      <td>323</td>\n",
       "      <td>325</td>\n",
       "    </tr>\n",
       "    <tr>\n",
       "      <th>70-74</th>\n",
       "      <td>223</td>\n",
       "      <td>250</td>\n",
       "      <td>308</td>\n",
       "      <td>412</td>\n",
       "    </tr>\n",
       "    <tr>\n",
       "      <th>75-79</th>\n",
       "      <td>198</td>\n",
       "      <td>214</td>\n",
       "      <td>253</td>\n",
       "      <td>338</td>\n",
       "    </tr>\n",
       "  </tbody>\n",
       "</table>\n",
       "</div>"
      ],
      "text/plain": [
       "       1955-1959  1960-1964  1965-1969  1970-1974\n",
       "                                                 \n",
       "25-29          3          2          7          3\n",
       "30-34         11         16         11         10\n",
       "35-39         11         22         24         25\n",
       "40-44         36         44         42         53\n",
       "45-49         77         74         68         99\n",
       "50-54        106        131         99        142\n",
       "55-59        157        184        189        180\n",
       "60-64        193        232        262        249\n",
       "65-69        219        267        323        325\n",
       "70-74        223        250        308        412\n",
       "75-79        198        214        253        338"
      ]
     },
     "execution_count": 3,
     "metadata": {},
     "output_type": "execute_result"
    }
   ],
   "source": [
    "apc.Belgian_lung_cancer()['response']"
   ]
  },
  {
   "cell_type": "markdown",
   "metadata": {},
   "source": [
    "paired with the rates:"
   ]
  },
  {
   "cell_type": "code",
   "execution_count": 4,
   "metadata": {},
   "outputs": [
    {
     "data": {
      "text/html": [
       "<div>\n",
       "<style scoped>\n",
       "    .dataframe tbody tr th:only-of-type {\n",
       "        vertical-align: middle;\n",
       "    }\n",
       "\n",
       "    .dataframe tbody tr th {\n",
       "        vertical-align: top;\n",
       "    }\n",
       "\n",
       "    .dataframe thead th {\n",
       "        text-align: right;\n",
       "    }\n",
       "</style>\n",
       "<table border=\"1\" class=\"dataframe\">\n",
       "  <thead>\n",
       "    <tr style=\"text-align: right;\">\n",
       "      <th></th>\n",
       "      <th>1955-1959</th>\n",
       "      <th>1960-1964</th>\n",
       "      <th>1965-1969</th>\n",
       "      <th>1970-1974</th>\n",
       "    </tr>\n",
       "    <tr>\n",
       "      <th></th>\n",
       "      <th></th>\n",
       "      <th></th>\n",
       "      <th></th>\n",
       "      <th></th>\n",
       "    </tr>\n",
       "  </thead>\n",
       "  <tbody>\n",
       "    <tr>\n",
       "      <th>25-29</th>\n",
       "      <td>0.19</td>\n",
       "      <td>0.13</td>\n",
       "      <td>0.50</td>\n",
       "      <td>0.19</td>\n",
       "    </tr>\n",
       "    <tr>\n",
       "      <th>30-34</th>\n",
       "      <td>0.66</td>\n",
       "      <td>0.98</td>\n",
       "      <td>0.72</td>\n",
       "      <td>0.71</td>\n",
       "    </tr>\n",
       "    <tr>\n",
       "      <th>35-39</th>\n",
       "      <td>0.78</td>\n",
       "      <td>1.32</td>\n",
       "      <td>1.47</td>\n",
       "      <td>1.64</td>\n",
       "    </tr>\n",
       "    <tr>\n",
       "      <th>40-44</th>\n",
       "      <td>2.67</td>\n",
       "      <td>3.16</td>\n",
       "      <td>2.53</td>\n",
       "      <td>3.38</td>\n",
       "    </tr>\n",
       "    <tr>\n",
       "      <th>45-49</th>\n",
       "      <td>4.84</td>\n",
       "      <td>5.60</td>\n",
       "      <td>4.93</td>\n",
       "      <td>6.05</td>\n",
       "    </tr>\n",
       "    <tr>\n",
       "      <th>50-54</th>\n",
       "      <td>6.60</td>\n",
       "      <td>8.50</td>\n",
       "      <td>7.65</td>\n",
       "      <td>10.59</td>\n",
       "    </tr>\n",
       "    <tr>\n",
       "      <th>55-59</th>\n",
       "      <td>10.36</td>\n",
       "      <td>12.00</td>\n",
       "      <td>12.68</td>\n",
       "      <td>14.34</td>\n",
       "    </tr>\n",
       "    <tr>\n",
       "      <th>60-64</th>\n",
       "      <td>14.76</td>\n",
       "      <td>16.37</td>\n",
       "      <td>18.00</td>\n",
       "      <td>17.60</td>\n",
       "    </tr>\n",
       "    <tr>\n",
       "      <th>65-69</th>\n",
       "      <td>20.53</td>\n",
       "      <td>22.60</td>\n",
       "      <td>24.90</td>\n",
       "      <td>24.33</td>\n",
       "    </tr>\n",
       "    <tr>\n",
       "      <th>70-74</th>\n",
       "      <td>26.24</td>\n",
       "      <td>27.70</td>\n",
       "      <td>30.47</td>\n",
       "      <td>36.94</td>\n",
       "    </tr>\n",
       "    <tr>\n",
       "      <th>75-79</th>\n",
       "      <td>33.47</td>\n",
       "      <td>33.61</td>\n",
       "      <td>36.77</td>\n",
       "      <td>43.69</td>\n",
       "    </tr>\n",
       "  </tbody>\n",
       "</table>\n",
       "</div>"
      ],
      "text/plain": [
       "       1955-1959  1960-1964  1965-1969  1970-1974\n",
       "                                                 \n",
       "25-29       0.19       0.13       0.50       0.19\n",
       "30-34       0.66       0.98       0.72       0.71\n",
       "35-39       0.78       1.32       1.47       1.64\n",
       "40-44       2.67       3.16       2.53       3.38\n",
       "45-49       4.84       5.60       4.93       6.05\n",
       "50-54       6.60       8.50       7.65      10.59\n",
       "55-59      10.36      12.00      12.68      14.34\n",
       "60-64      14.76      16.37      18.00      17.60\n",
       "65-69      20.53      22.60      24.90      24.33\n",
       "70-74      26.24      27.70      30.47      36.94\n",
       "75-79      33.47      33.61      36.77      43.69"
      ]
     },
     "execution_count": 4,
     "metadata": {},
     "output_type": "execute_result"
    }
   ],
   "source": [
    "apc.Belgian_lung_cancer()['rate']"
   ]
  },
  {
   "cell_type": "markdown",
   "metadata": {},
   "source": [
    "These data are organized in an age-period array with age running down the rows and period increasing over columns."
   ]
  },
  {
   "cell_type": "markdown",
   "metadata": {},
   "source": [
    "In Table 2, we see the rates mapped into an age-cohort array.\n",
    "\n",
    "To replicate, we first organize the data, which come with the package, in a slightly more useful form"
   ]
  },
  {
   "cell_type": "code",
   "execution_count": 5,
   "metadata": {},
   "outputs": [],
   "source": [
    "model = apc.Model()\n",
    "model.data_from_df(**apc.Belgian_lung_cancer())"
   ]
  },
  {
   "cell_type": "markdown",
   "metadata": {},
   "source": [
    "This organizes the data in vector form with a MultiIndex. The third, formerly missing cohort time-scale is generated internally. We look at the first couple rows of this vector:"
   ]
  },
  {
   "cell_type": "code",
   "execution_count": 6,
   "metadata": {},
   "outputs": [
    {
     "data": {
      "text/html": [
       "<div>\n",
       "<style scoped>\n",
       "    .dataframe tbody tr th:only-of-type {\n",
       "        vertical-align: middle;\n",
       "    }\n",
       "\n",
       "    .dataframe tbody tr th {\n",
       "        vertical-align: top;\n",
       "    }\n",
       "\n",
       "    .dataframe thead th {\n",
       "        text-align: right;\n",
       "    }\n",
       "</style>\n",
       "<table border=\"1\" class=\"dataframe\">\n",
       "  <thead>\n",
       "    <tr style=\"text-align: right;\">\n",
       "      <th></th>\n",
       "      <th></th>\n",
       "      <th></th>\n",
       "      <th>response</th>\n",
       "      <th>dose</th>\n",
       "      <th>rate</th>\n",
       "    </tr>\n",
       "    <tr>\n",
       "      <th>Period</th>\n",
       "      <th>Age</th>\n",
       "      <th>Cohort</th>\n",
       "      <th></th>\n",
       "      <th></th>\n",
       "      <th></th>\n",
       "    </tr>\n",
       "  </thead>\n",
       "  <tbody>\n",
       "    <tr>\n",
       "      <th rowspan=\"5\" valign=\"top\">1955-1959</th>\n",
       "      <th>25-29</th>\n",
       "      <th>1926-1934</th>\n",
       "      <td>3</td>\n",
       "      <td>15.789474</td>\n",
       "      <td>0.19</td>\n",
       "    </tr>\n",
       "    <tr>\n",
       "      <th>30-34</th>\n",
       "      <th>1921-1929</th>\n",
       "      <td>11</td>\n",
       "      <td>16.666667</td>\n",
       "      <td>0.66</td>\n",
       "    </tr>\n",
       "    <tr>\n",
       "      <th>35-39</th>\n",
       "      <th>1916-1924</th>\n",
       "      <td>11</td>\n",
       "      <td>14.102564</td>\n",
       "      <td>0.78</td>\n",
       "    </tr>\n",
       "    <tr>\n",
       "      <th>40-44</th>\n",
       "      <th>1911-1919</th>\n",
       "      <td>36</td>\n",
       "      <td>13.483146</td>\n",
       "      <td>2.67</td>\n",
       "    </tr>\n",
       "    <tr>\n",
       "      <th>45-49</th>\n",
       "      <th>1906-1914</th>\n",
       "      <td>77</td>\n",
       "      <td>15.909091</td>\n",
       "      <td>4.84</td>\n",
       "    </tr>\n",
       "  </tbody>\n",
       "</table>\n",
       "</div>"
      ],
      "text/plain": [
       "                           response       dose  rate\n",
       "Period    Age   Cohort                              \n",
       "1955-1959 25-29 1926-1934         3  15.789474  0.19\n",
       "          30-34 1921-1929        11  16.666667  0.66\n",
       "          35-39 1916-1924        11  14.102564  0.78\n",
       "          40-44 1911-1919        36  13.483146  2.67\n",
       "          45-49 1906-1914        77  15.909091  4.84"
      ]
     },
     "execution_count": 6,
     "metadata": {},
     "output_type": "execute_result"
    }
   ],
   "source": [
    "model.data_vector.head()"
   ]
  },
  {
   "cell_type": "markdown",
   "metadata": {},
   "source": [
    "We can see that the cohort range is wider than the period and age range. To see why, consider when individuals between age 25-29 who died within period 1955-1959 must have been born. Looking at the earliest and latest possible birthyear, a 29 year old who died in 1955 was born in 1926. Similarly, a 25 year old who died in 1959 was born in 1934. Thus, the cohort range is given as 1926-1934."
   ]
  },
  {
   "cell_type": "markdown",
   "metadata": {},
   "source": [
    "Now, we can arrange the mortality rates in age-cohort space as in Table 2, using a function that is originally intended for internal use by the package:"
   ]
  },
  {
   "cell_type": "code",
   "execution_count": 7,
   "metadata": {},
   "outputs": [
    {
     "data": {
      "text/html": [
       "<div>\n",
       "<style scoped>\n",
       "    .dataframe tbody tr th:only-of-type {\n",
       "        vertical-align: middle;\n",
       "    }\n",
       "\n",
       "    .dataframe tbody tr th {\n",
       "        vertical-align: top;\n",
       "    }\n",
       "\n",
       "    .dataframe thead th {\n",
       "        text-align: right;\n",
       "    }\n",
       "</style>\n",
       "<table border=\"1\" class=\"dataframe\">\n",
       "  <thead>\n",
       "    <tr style=\"text-align: right;\">\n",
       "      <th>Cohort</th>\n",
       "      <th>1876-1884</th>\n",
       "      <th>1881-1889</th>\n",
       "      <th>1886-1894</th>\n",
       "      <th>1891-1899</th>\n",
       "      <th>1896-1904</th>\n",
       "      <th>1901-1909</th>\n",
       "      <th>1906-1914</th>\n",
       "      <th>1911-1919</th>\n",
       "      <th>1916-1924</th>\n",
       "      <th>1921-1929</th>\n",
       "      <th>1926-1934</th>\n",
       "      <th>1931-1939</th>\n",
       "      <th>1936-1944</th>\n",
       "      <th>1941-1949</th>\n",
       "    </tr>\n",
       "    <tr>\n",
       "      <th>Age</th>\n",
       "      <th></th>\n",
       "      <th></th>\n",
       "      <th></th>\n",
       "      <th></th>\n",
       "      <th></th>\n",
       "      <th></th>\n",
       "      <th></th>\n",
       "      <th></th>\n",
       "      <th></th>\n",
       "      <th></th>\n",
       "      <th></th>\n",
       "      <th></th>\n",
       "      <th></th>\n",
       "      <th></th>\n",
       "    </tr>\n",
       "  </thead>\n",
       "  <tbody>\n",
       "    <tr>\n",
       "      <th>25-29</th>\n",
       "      <td></td>\n",
       "      <td></td>\n",
       "      <td></td>\n",
       "      <td></td>\n",
       "      <td></td>\n",
       "      <td></td>\n",
       "      <td></td>\n",
       "      <td></td>\n",
       "      <td></td>\n",
       "      <td></td>\n",
       "      <td>0.19</td>\n",
       "      <td>0.13</td>\n",
       "      <td>0.5</td>\n",
       "      <td>0.19</td>\n",
       "    </tr>\n",
       "    <tr>\n",
       "      <th>30-34</th>\n",
       "      <td></td>\n",
       "      <td></td>\n",
       "      <td></td>\n",
       "      <td></td>\n",
       "      <td></td>\n",
       "      <td></td>\n",
       "      <td></td>\n",
       "      <td></td>\n",
       "      <td></td>\n",
       "      <td>0.66</td>\n",
       "      <td>0.98</td>\n",
       "      <td>0.72</td>\n",
       "      <td>0.71</td>\n",
       "      <td></td>\n",
       "    </tr>\n",
       "    <tr>\n",
       "      <th>35-39</th>\n",
       "      <td></td>\n",
       "      <td></td>\n",
       "      <td></td>\n",
       "      <td></td>\n",
       "      <td></td>\n",
       "      <td></td>\n",
       "      <td></td>\n",
       "      <td></td>\n",
       "      <td>0.78</td>\n",
       "      <td>1.32</td>\n",
       "      <td>1.47</td>\n",
       "      <td>1.64</td>\n",
       "      <td></td>\n",
       "      <td></td>\n",
       "    </tr>\n",
       "    <tr>\n",
       "      <th>40-44</th>\n",
       "      <td></td>\n",
       "      <td></td>\n",
       "      <td></td>\n",
       "      <td></td>\n",
       "      <td></td>\n",
       "      <td></td>\n",
       "      <td></td>\n",
       "      <td>2.67</td>\n",
       "      <td>3.16</td>\n",
       "      <td>2.53</td>\n",
       "      <td>3.38</td>\n",
       "      <td></td>\n",
       "      <td></td>\n",
       "      <td></td>\n",
       "    </tr>\n",
       "    <tr>\n",
       "      <th>45-49</th>\n",
       "      <td></td>\n",
       "      <td></td>\n",
       "      <td></td>\n",
       "      <td></td>\n",
       "      <td></td>\n",
       "      <td></td>\n",
       "      <td>4.84</td>\n",
       "      <td>5.6</td>\n",
       "      <td>4.93</td>\n",
       "      <td>6.05</td>\n",
       "      <td></td>\n",
       "      <td></td>\n",
       "      <td></td>\n",
       "      <td></td>\n",
       "    </tr>\n",
       "    <tr>\n",
       "      <th>50-54</th>\n",
       "      <td></td>\n",
       "      <td></td>\n",
       "      <td></td>\n",
       "      <td></td>\n",
       "      <td></td>\n",
       "      <td>6.6</td>\n",
       "      <td>8.5</td>\n",
       "      <td>7.65</td>\n",
       "      <td>10.59</td>\n",
       "      <td></td>\n",
       "      <td></td>\n",
       "      <td></td>\n",
       "      <td></td>\n",
       "      <td></td>\n",
       "    </tr>\n",
       "    <tr>\n",
       "      <th>55-59</th>\n",
       "      <td></td>\n",
       "      <td></td>\n",
       "      <td></td>\n",
       "      <td></td>\n",
       "      <td>10.36</td>\n",
       "      <td>12</td>\n",
       "      <td>12.68</td>\n",
       "      <td>14.34</td>\n",
       "      <td></td>\n",
       "      <td></td>\n",
       "      <td></td>\n",
       "      <td></td>\n",
       "      <td></td>\n",
       "      <td></td>\n",
       "    </tr>\n",
       "    <tr>\n",
       "      <th>60-64</th>\n",
       "      <td></td>\n",
       "      <td></td>\n",
       "      <td></td>\n",
       "      <td>14.76</td>\n",
       "      <td>16.37</td>\n",
       "      <td>18</td>\n",
       "      <td>17.6</td>\n",
       "      <td></td>\n",
       "      <td></td>\n",
       "      <td></td>\n",
       "      <td></td>\n",
       "      <td></td>\n",
       "      <td></td>\n",
       "      <td></td>\n",
       "    </tr>\n",
       "    <tr>\n",
       "      <th>65-69</th>\n",
       "      <td></td>\n",
       "      <td></td>\n",
       "      <td>20.53</td>\n",
       "      <td>22.6</td>\n",
       "      <td>24.9</td>\n",
       "      <td>24.33</td>\n",
       "      <td></td>\n",
       "      <td></td>\n",
       "      <td></td>\n",
       "      <td></td>\n",
       "      <td></td>\n",
       "      <td></td>\n",
       "      <td></td>\n",
       "      <td></td>\n",
       "    </tr>\n",
       "    <tr>\n",
       "      <th>70-74</th>\n",
       "      <td></td>\n",
       "      <td>26.24</td>\n",
       "      <td>27.7</td>\n",
       "      <td>30.47</td>\n",
       "      <td>36.94</td>\n",
       "      <td></td>\n",
       "      <td></td>\n",
       "      <td></td>\n",
       "      <td></td>\n",
       "      <td></td>\n",
       "      <td></td>\n",
       "      <td></td>\n",
       "      <td></td>\n",
       "      <td></td>\n",
       "    </tr>\n",
       "    <tr>\n",
       "      <th>75-79</th>\n",
       "      <td>33.47</td>\n",
       "      <td>33.61</td>\n",
       "      <td>36.77</td>\n",
       "      <td>43.69</td>\n",
       "      <td></td>\n",
       "      <td></td>\n",
       "      <td></td>\n",
       "      <td></td>\n",
       "      <td></td>\n",
       "      <td></td>\n",
       "      <td></td>\n",
       "      <td></td>\n",
       "      <td></td>\n",
       "      <td></td>\n",
       "    </tr>\n",
       "  </tbody>\n",
       "</table>\n",
       "</div>"
      ],
      "text/plain": [
       "Cohort 1876-1884 1881-1889 1886-1894 1891-1899 1896-1904 1901-1909 1906-1914  \\\n",
       "Age                                                                            \n",
       "25-29                                                                          \n",
       "30-34                                                                          \n",
       "35-39                                                                          \n",
       "40-44                                                                          \n",
       "45-49                                                                   4.84   \n",
       "50-54                                                          6.6       8.5   \n",
       "55-59                                              10.36        12     12.68   \n",
       "60-64                                    14.76     16.37        18      17.6   \n",
       "65-69                          20.53      22.6      24.9     24.33             \n",
       "70-74                26.24      27.7     30.47     36.94                       \n",
       "75-79      33.47     33.61     36.77     43.69                                 \n",
       "\n",
       "Cohort 1911-1919 1916-1924 1921-1929 1926-1934 1931-1939 1936-1944 1941-1949  \n",
       "Age                                                                           \n",
       "25-29                                     0.19      0.13       0.5      0.19  \n",
       "30-34                           0.66      0.98      0.72      0.71            \n",
       "35-39                 0.78      1.32      1.47      1.64                      \n",
       "40-44       2.67      3.16      2.53      3.38                                \n",
       "45-49        5.6      4.93      6.05                                          \n",
       "50-54       7.65     10.59                                                    \n",
       "55-59      14.34                                                              \n",
       "60-64                                                                         \n",
       "65-69                                                                         \n",
       "70-74                                                                         \n",
       "75-79                                                                         "
      ]
     },
     "execution_count": 7,
     "metadata": {},
     "output_type": "execute_result"
    }
   ],
   "source": [
    "model._vector_to_array(model.data_vector['rate'], space='AC').fillna('')"
   ]
  },
  {
   "cell_type": "markdown",
   "metadata": {},
   "source": [
    "## 3.6 Model and Identification & 4.3 Ad Hoc Identified Plot of Time Effects\n",
    "\n",
    "The age-period-cohort predictor is given by\n",
    "\n",
    "$$ \\mu_{ik} = \\underbrace{\\alpha_i}_{\\text{Age Effect}} + \\underbrace{\\beta_j}_{\\text{Period Effect}} + \\underbrace{\\gamma_k}_{\\text{Cohort Effect}} + \\underbrace{\\delta}_{\\text{Level}} $$\n",
    "\n",
    "The individual effects are well known not to be identified. The solution used in the paper to the problem is to first find a parameterization with identified parameters while avoiding the imposition of ad hoc constraints. It is shown that we can rewrite \n",
    "\n",
    "$$ \\mu_{ik} = \\underbrace{\\nu_0}_{\\text{Level}}  + \\underbrace{(i-U) \\nu_a}_{\\text{Linear Trend 1}} + \\underbrace{(k - U) \\nu_c}_{\\text{Linear Trend 2}} + \\underbrace{\\sum \\sum \\Delta^2 \\alpha_i}_{\\text{Detrended Age Effect}} + \\underbrace{\\sum \\sum \\Delta^2 \\beta_j}_{\\text{Detrended Period Effect}} + \\underbrace{\\sum \\sum \\Delta^2 \\gamma_k}_{\\text{Detrended Cohort Effect}} $$\n",
    "\n",
    "The parameters $\\nu_0$, $\\nu_a$, $\\nu_c$, $\\Delta^2 \\alpha_i$, $\\Delta^2 \\beta_j$, $\\Delta^2 \\gamma_k$ are identified. These are the parameters the model estimates.\n",
    "\n",
    "[Below](#5.6-Inference), we show a number of possible sub-models arising from the age-period-cohort predictor."
   ]
  },
  {
   "cell_type": "markdown",
   "metadata": {},
   "source": [
    "We fit and poisson-dose-response age-period-cohort model to the data."
   ]
  },
  {
   "cell_type": "code",
   "execution_count": 8,
   "metadata": {},
   "outputs": [],
   "source": [
    "model.fit('poisson_dose_response', 'APC')"
   ]
  },
  {
   "cell_type": "markdown",
   "metadata": {},
   "source": [
    "We can then extract the deviance by calling"
   ]
  },
  {
   "cell_type": "code",
   "execution_count": 9,
   "metadata": {},
   "outputs": [
    {
     "data": {
      "text/plain": [
       "20.224957701053945"
      ]
     },
     "execution_count": 9,
     "metadata": {},
     "output_type": "execute_result"
    }
   ],
   "source": [
    "model.deviance"
   ]
  },
  {
   "cell_type": "markdown",
   "metadata": {},
   "source": [
    "To find the p-value, we make use of another function that we will revisit again [below](#5.6-Inference)."
   ]
  },
  {
   "cell_type": "code",
   "execution_count": 10,
   "metadata": {},
   "outputs": [
    {
     "data": {
      "text/html": [
       "<div>\n",
       "<style scoped>\n",
       "    .dataframe tbody tr th:only-of-type {\n",
       "        vertical-align: middle;\n",
       "    }\n",
       "\n",
       "    .dataframe tbody tr th {\n",
       "        vertical-align: top;\n",
       "    }\n",
       "\n",
       "    .dataframe thead th {\n",
       "        text-align: right;\n",
       "    }\n",
       "</style>\n",
       "<table border=\"1\" class=\"dataframe\">\n",
       "  <thead>\n",
       "    <tr style=\"text-align: right;\">\n",
       "      <th></th>\n",
       "      <th>deviance</th>\n",
       "      <th>df_resid</th>\n",
       "      <th>P&gt;chi_sq</th>\n",
       "      <th>LR_vs_APC</th>\n",
       "      <th>df_vs_APC</th>\n",
       "      <th>P&gt;chi_sq</th>\n",
       "    </tr>\n",
       "  </thead>\n",
       "  <tbody>\n",
       "    <tr>\n",
       "      <th>APC</th>\n",
       "      <td>20.225</td>\n",
       "      <td>18</td>\n",
       "      <td>0.320298</td>\n",
       "      <td>NaN</td>\n",
       "      <td>NaN</td>\n",
       "      <td>NaN</td>\n",
       "    </tr>\n",
       "  </tbody>\n",
       "</table>\n",
       "</div>"
      ],
      "text/plain": [
       "    deviance df_resid  P>chi_sq LR_vs_APC df_vs_APC P>chi_sq\n",
       "APC   20.225       18  0.320298       NaN       NaN      NaN"
      ]
     },
     "execution_count": 10,
     "metadata": {},
     "output_type": "execute_result"
    }
   ],
   "source": [
    "model.fit_table('poisson_dose_response', attach_to_self=False).loc[['APC']]"
   ]
  },
  {
   "cell_type": "markdown",
   "metadata": {},
   "source": [
    "The paper next considers a probability transform map. We instead plot the deviance residuals.\n",
    "\n",
    "*Remark: ``simplify_ranges`` is useful for larger data sets where the axes labels become cluttered if all indices are plotted. Here, there is no need for this*"
   ]
  },
  {
   "cell_type": "code",
   "execution_count": 11,
   "metadata": {},
   "outputs": [
    {
     "data": {
      "image/png": "[encoded data removed]",
      "text/plain": [
       "<Figure size 432x288 with 2 Axes>"
      ]
     },
     "metadata": {},
     "output_type": "display_data"
    }
   ],
   "source": [
    "model.plot_residuals(simplify_ranges=False)"
   ]
  },
  {
   "cell_type": "markdown",
   "metadata": {},
   "source": [
    "Before we replicate the parameter plot in Figure 3, we look at the estimated parameters."
   ]
  },
  {
   "cell_type": "code",
   "execution_count": 12,
   "metadata": {},
   "outputs": [
    {
     "data": {
      "text/html": [
       "<div>\n",
       "<style scoped>\n",
       "    .dataframe tbody tr th:only-of-type {\n",
       "        vertical-align: middle;\n",
       "    }\n",
       "\n",
       "    .dataframe tbody tr th {\n",
       "        vertical-align: top;\n",
       "    }\n",
       "\n",
       "    .dataframe thead th {\n",
       "        text-align: right;\n",
       "    }\n",
       "</style>\n",
       "<table border=\"1\" class=\"dataframe\">\n",
       "  <thead>\n",
       "    <tr style=\"text-align: right;\">\n",
       "      <th></th>\n",
       "      <th>coef</th>\n",
       "      <th>std_err</th>\n",
       "      <th>z</th>\n",
       "      <th>P&gt;|z|</th>\n",
       "    </tr>\n",
       "  </thead>\n",
       "  <tbody>\n",
       "    <tr>\n",
       "      <th>level</th>\n",
       "      <td>1.957546</td>\n",
       "      <td>0.065878</td>\n",
       "      <td>29.714553</td>\n",
       "      <td>4.980900e-194</td>\n",
       "    </tr>\n",
       "    <tr>\n",
       "      <th>slope_age</th>\n",
       "      <td>0.504384</td>\n",
       "      <td>0.075220</td>\n",
       "      <td>6.705446</td>\n",
       "      <td>2.007924e-11</td>\n",
       "    </tr>\n",
       "    <tr>\n",
       "      <th>slope_coh</th>\n",
       "      <td>0.120879</td>\n",
       "      <td>0.067994</td>\n",
       "      <td>1.777784</td>\n",
       "      <td>7.543934e-02</td>\n",
       "    </tr>\n",
       "    <tr>\n",
       "      <th>dd_age_35-39</th>\n",
       "      <td>-0.497117</td>\n",
       "      <td>0.427483</td>\n",
       "      <td>-1.162891</td>\n",
       "      <td>2.448736e-01</td>\n",
       "    </tr>\n",
       "    <tr>\n",
       "      <th>dd_age_40-44</th>\n",
       "      <td>0.253907</td>\n",
       "      <td>0.288400</td>\n",
       "      <td>0.880401</td>\n",
       "      <td>3.786423e-01</td>\n",
       "    </tr>\n",
       "    <tr>\n",
       "      <th>dd_age_45-49</th>\n",
       "      <td>-0.155115</td>\n",
       "      <td>0.205152</td>\n",
       "      <td>-0.756098</td>\n",
       "      <td>4.495907e-01</td>\n",
       "    </tr>\n",
       "    <tr>\n",
       "      <th>dd_age_50-54</th>\n",
       "      <td>-0.205505</td>\n",
       "      <td>0.150426</td>\n",
       "      <td>-1.366154</td>\n",
       "      <td>1.718908e-01</td>\n",
       "    </tr>\n",
       "    <tr>\n",
       "      <th>dd_age_55-59</th>\n",
       "      <td>-0.043344</td>\n",
       "      <td>0.118725</td>\n",
       "      <td>-0.365080</td>\n",
       "      <td>7.150515e-01</td>\n",
       "    </tr>\n",
       "    <tr>\n",
       "      <th>dd_age_60-64</th>\n",
       "      <td>-0.092603</td>\n",
       "      <td>0.097120</td>\n",
       "      <td>-0.953497</td>\n",
       "      <td>3.403386e-01</td>\n",
       "    </tr>\n",
       "    <tr>\n",
       "      <th>dd_age_65-69</th>\n",
       "      <td>0.023606</td>\n",
       "      <td>0.083549</td>\n",
       "      <td>0.282538</td>\n",
       "      <td>7.775312e-01</td>\n",
       "    </tr>\n",
       "    <tr>\n",
       "      <th>dd_age_70-74</th>\n",
       "      <td>-0.046471</td>\n",
       "      <td>0.076446</td>\n",
       "      <td>-0.607893</td>\n",
       "      <td>5.432587e-01</td>\n",
       "    </tr>\n",
       "    <tr>\n",
       "      <th>dd_age_75-79</th>\n",
       "      <td>-0.077332</td>\n",
       "      <td>0.076196</td>\n",
       "      <td>-1.014914</td>\n",
       "      <td>3.101467e-01</td>\n",
       "    </tr>\n",
       "    <tr>\n",
       "      <th>dd_per_1965-1969</th>\n",
       "      <td>-0.065187</td>\n",
       "      <td>0.066563</td>\n",
       "      <td>-0.979322</td>\n",
       "      <td>3.274208e-01</td>\n",
       "    </tr>\n",
       "    <tr>\n",
       "      <th>dd_per_1970-1974</th>\n",
       "      <td>0.064058</td>\n",
       "      <td>0.062120</td>\n",
       "      <td>1.031208</td>\n",
       "      <td>3.024432e-01</td>\n",
       "    </tr>\n",
       "    <tr>\n",
       "      <th>dd_coh_1886-1894</th>\n",
       "      <td>0.089056</td>\n",
       "      <td>0.129181</td>\n",
       "      <td>0.689388</td>\n",
       "      <td>4.905794e-01</td>\n",
       "    </tr>\n",
       "    <tr>\n",
       "      <th>dd_coh_1891-1899</th>\n",
       "      <td>0.022795</td>\n",
       "      <td>0.095249</td>\n",
       "      <td>0.239320</td>\n",
       "      <td>8.108572e-01</td>\n",
       "    </tr>\n",
       "    <tr>\n",
       "      <th>dd_coh_1896-1904</th>\n",
       "      <td>-0.009888</td>\n",
       "      <td>0.078063</td>\n",
       "      <td>-0.126663</td>\n",
       "      <td>8.992070e-01</td>\n",
       "    </tr>\n",
       "    <tr>\n",
       "      <th>dd_coh_1901-1909</th>\n",
       "      <td>-0.087603</td>\n",
       "      <td>0.077170</td>\n",
       "      <td>-1.135193</td>\n",
       "      <td>2.562943e-01</td>\n",
       "    </tr>\n",
       "    <tr>\n",
       "      <th>dd_coh_1906-1914</th>\n",
       "      <td>0.070175</td>\n",
       "      <td>0.086273</td>\n",
       "      <td>0.813398</td>\n",
       "      <td>4.159899e-01</td>\n",
       "    </tr>\n",
       "    <tr>\n",
       "      <th>dd_coh_1911-1919</th>\n",
       "      <td>0.005654</td>\n",
       "      <td>0.102391</td>\n",
       "      <td>0.055220</td>\n",
       "      <td>9.559628e-01</td>\n",
       "    </tr>\n",
       "    <tr>\n",
       "      <th>dd_coh_1916-1924</th>\n",
       "      <td>0.015051</td>\n",
       "      <td>0.128510</td>\n",
       "      <td>0.117120</td>\n",
       "      <td>9.067647e-01</td>\n",
       "    </tr>\n",
       "    <tr>\n",
       "      <th>dd_coh_1921-1929</th>\n",
       "      <td>-0.093530</td>\n",
       "      <td>0.158578</td>\n",
       "      <td>-0.589803</td>\n",
       "      <td>5.553229e-01</td>\n",
       "    </tr>\n",
       "    <tr>\n",
       "      <th>dd_coh_1926-1934</th>\n",
       "      <td>0.191506</td>\n",
       "      <td>0.201879</td>\n",
       "      <td>0.948621</td>\n",
       "      <td>3.428134e-01</td>\n",
       "    </tr>\n",
       "    <tr>\n",
       "      <th>dd_coh_1931-1939</th>\n",
       "      <td>-0.214530</td>\n",
       "      <td>0.284435</td>\n",
       "      <td>-0.754231</td>\n",
       "      <td>4.507103e-01</td>\n",
       "    </tr>\n",
       "    <tr>\n",
       "      <th>dd_coh_1936-1944</th>\n",
       "      <td>0.160455</td>\n",
       "      <td>0.436662</td>\n",
       "      <td>0.367458</td>\n",
       "      <td>7.132772e-01</td>\n",
       "    </tr>\n",
       "    <tr>\n",
       "      <th>dd_coh_1941-1949</th>\n",
       "      <td>-0.609263</td>\n",
       "      <td>0.814784</td>\n",
       "      <td>-0.747760</td>\n",
       "      <td>4.546048e-01</td>\n",
       "    </tr>\n",
       "  </tbody>\n",
       "</table>\n",
       "</div>"
      ],
      "text/plain": [
       "                      coef   std_err          z          P>|z|\n",
       "level             1.957546  0.065878  29.714553  4.980900e-194\n",
       "slope_age         0.504384  0.075220   6.705446   2.007924e-11\n",
       "slope_coh         0.120879  0.067994   1.777784   7.543934e-02\n",
       "dd_age_35-39     -0.497117  0.427483  -1.162891   2.448736e-01\n",
       "dd_age_40-44      0.253907  0.288400   0.880401   3.786423e-01\n",
       "dd_age_45-49     -0.155115  0.205152  -0.756098   4.495907e-01\n",
       "dd_age_50-54     -0.205505  0.150426  -1.366154   1.718908e-01\n",
       "dd_age_55-59     -0.043344  0.118725  -0.365080   7.150515e-01\n",
       "dd_age_60-64     -0.092603  0.097120  -0.953497   3.403386e-01\n",
       "dd_age_65-69      0.023606  0.083549   0.282538   7.775312e-01\n",
       "dd_age_70-74     -0.046471  0.076446  -0.607893   5.432587e-01\n",
       "dd_age_75-79     -0.077332  0.076196  -1.014914   3.101467e-01\n",
       "dd_per_1965-1969 -0.065187  0.066563  -0.979322   3.274208e-01\n",
       "dd_per_1970-1974  0.064058  0.062120   1.031208   3.024432e-01\n",
       "dd_coh_1886-1894  0.089056  0.129181   0.689388   4.905794e-01\n",
       "dd_coh_1891-1899  0.022795  0.095249   0.239320   8.108572e-01\n",
       "dd_coh_1896-1904 -0.009888  0.078063  -0.126663   8.992070e-01\n",
       "dd_coh_1901-1909 -0.087603  0.077170  -1.135193   2.562943e-01\n",
       "dd_coh_1906-1914  0.070175  0.086273   0.813398   4.159899e-01\n",
       "dd_coh_1911-1919  0.005654  0.102391   0.055220   9.559628e-01\n",
       "dd_coh_1916-1924  0.015051  0.128510   0.117120   9.067647e-01\n",
       "dd_coh_1921-1929 -0.093530  0.158578  -0.589803   5.553229e-01\n",
       "dd_coh_1926-1934  0.191506  0.201879   0.948621   3.428134e-01\n",
       "dd_coh_1931-1939 -0.214530  0.284435  -0.754231   4.507103e-01\n",
       "dd_coh_1936-1944  0.160455  0.436662   0.367458   7.132772e-01\n",
       "dd_coh_1941-1949 -0.609263  0.814784  -0.747760   4.546048e-01"
      ]
     },
     "execution_count": 12,
     "metadata": {},
     "output_type": "execute_result"
    }
   ],
   "source": [
    "model.parameters"
   ]
  },
  {
   "cell_type": "markdown",
   "metadata": {},
   "source": [
    "Onwards to plotting them. The paper discusses the interpretation for the linear trends and detrended parameters; see also Nielsen (2015)."
   ]
  },
  {
   "cell_type": "code",
   "execution_count": 13,
   "metadata": {},
   "outputs": [
    {
     "data": {
      "image/png": "[encoded data removed]",
      "text/plain": [
       "<Figure size 720x576 with 9 Axes>"
      ]
     },
     "metadata": {},
     "output_type": "display_data"
    }
   ],
   "source": [
    "model.plot_parameters(around_coef=False)"
   ]
  },
  {
   "cell_type": "markdown",
   "metadata": {},
   "source": [
    "In Figure 4, the parameter plot is redone, except the model is now estimated after dropping the youngest two age groups."
   ]
  },
  {
   "cell_type": "code",
   "execution_count": 14,
   "metadata": {},
   "outputs": [
    {
     "data": {
      "image/png": "[encoded data removed]",
      "text/plain": [
       "<Figure size 720x576 with 9 Axes>"
      ]
     },
     "metadata": {},
     "output_type": "display_data"
    }
   ],
   "source": [
    "sub_model = model.sub_model(age_from_to=('35-39', None))\n",
    "\n",
    "sub_model.plot_parameters(around_coef=False)"
   ]
  },
  {
   "cell_type": "markdown",
   "metadata": {},
   "source": [
    "## 5.6 Inference"
   ]
  },
  {
   "cell_type": "markdown",
   "metadata": {},
   "source": [
    "We move on to test for model reduction. The paper elaborates on a number of different sub-models. These arise by restriction the identified parameters mentioned above, illustrated in Table 3 in the paper:\n",
    "\n",
    "<img src=\"https://user-images.githubusercontent.com/25103918/43285139-091fff84-90ec-11e8-9797-36fa15353f22.png\" alt=\"Sub-Models Parameterizations\" width=\"400\"/>\n",
    "\n",
    "This also gives rise to a nested structure as shown in Figure 5 in the paper:\n",
    "\n",
    "<img src=\"https://user-images.githubusercontent.com/25103918/42902938-3fc5c6bc-8a9e-11e8-94b6-7406f9a42c29.png\" alt=\"Nested Sub-Models\" width=\"400\"/>\n"
   ]
  },
  {
   "cell_type": "markdown",
   "metadata": {},
   "source": [
    "We can now produce a deviance table as shown in Table 4 in the paper:"
   ]
  },
  {
   "cell_type": "code",
   "execution_count": 15,
   "metadata": {},
   "outputs": [
    {
     "data": {
      "text/html": [
       "<div>\n",
       "<style scoped>\n",
       "    .dataframe tbody tr th:only-of-type {\n",
       "        vertical-align: middle;\n",
       "    }\n",
       "\n",
       "    .dataframe tbody tr th {\n",
       "        vertical-align: top;\n",
       "    }\n",
       "\n",
       "    .dataframe thead th {\n",
       "        text-align: right;\n",
       "    }\n",
       "</style>\n",
       "<table border=\"1\" class=\"dataframe\">\n",
       "  <thead>\n",
       "    <tr style=\"text-align: right;\">\n",
       "      <th></th>\n",
       "      <th>deviance</th>\n",
       "      <th>df_resid</th>\n",
       "      <th>P&gt;chi_sq</th>\n",
       "      <th>LR_vs_APC</th>\n",
       "      <th>df_vs_APC</th>\n",
       "      <th>P&gt;chi_sq</th>\n",
       "    </tr>\n",
       "  </thead>\n",
       "  <tbody>\n",
       "    <tr>\n",
       "      <th>APC</th>\n",
       "      <td>20.225</td>\n",
       "      <td>18</td>\n",
       "      <td>0.320298</td>\n",
       "      <td>NaN</td>\n",
       "      <td>NaN</td>\n",
       "      <td>NaN</td>\n",
       "    </tr>\n",
       "    <tr>\n",
       "      <th>AP</th>\n",
       "      <td>25.5579</td>\n",
       "      <td>30</td>\n",
       "      <td>0.697492</td>\n",
       "      <td>5.33293</td>\n",
       "      <td>12</td>\n",
       "      <td>0.945925</td>\n",
       "    </tr>\n",
       "    <tr>\n",
       "      <th>AC</th>\n",
       "      <td>21.4537</td>\n",
       "      <td>20</td>\n",
       "      <td>0.370873</td>\n",
       "      <td>1.22876</td>\n",
       "      <td>2</td>\n",
       "      <td>0.540975</td>\n",
       "    </tr>\n",
       "    <tr>\n",
       "      <th>PC</th>\n",
       "      <td>99.2285</td>\n",
       "      <td>27</td>\n",
       "      <td>3.44469e-10</td>\n",
       "      <td>79.0035</td>\n",
       "      <td>9</td>\n",
       "      <td>2.54907e-13</td>\n",
       "    </tr>\n",
       "    <tr>\n",
       "      <th>Ad</th>\n",
       "      <td>26.5839</td>\n",
       "      <td>32</td>\n",
       "      <td>0.737221</td>\n",
       "      <td>6.35894</td>\n",
       "      <td>14</td>\n",
       "      <td>0.956618</td>\n",
       "    </tr>\n",
       "    <tr>\n",
       "      <th>Pd</th>\n",
       "      <td>253.562</td>\n",
       "      <td>39</td>\n",
       "      <td>0</td>\n",
       "      <td>233.337</td>\n",
       "      <td>21</td>\n",
       "      <td>0</td>\n",
       "    </tr>\n",
       "    <tr>\n",
       "      <th>Cd</th>\n",
       "      <td>100.712</td>\n",
       "      <td>29</td>\n",
       "      <td>7.52274e-10</td>\n",
       "      <td>80.4873</td>\n",
       "      <td>11</td>\n",
       "      <td>1.18783e-12</td>\n",
       "    </tr>\n",
       "    <tr>\n",
       "      <th>A</th>\n",
       "      <td>85.5773</td>\n",
       "      <td>33</td>\n",
       "      <td>1.49555e-06</td>\n",
       "      <td>65.3523</td>\n",
       "      <td>15</td>\n",
       "      <td>2.96382e-08</td>\n",
       "    </tr>\n",
       "    <tr>\n",
       "      <th>P</th>\n",
       "      <td>6390.15</td>\n",
       "      <td>40</td>\n",
       "      <td>0</td>\n",
       "      <td>6369.92</td>\n",
       "      <td>22</td>\n",
       "      <td>0</td>\n",
       "    </tr>\n",
       "    <tr>\n",
       "      <th>C</th>\n",
       "      <td>1217.03</td>\n",
       "      <td>30</td>\n",
       "      <td>0</td>\n",
       "      <td>1196.81</td>\n",
       "      <td>12</td>\n",
       "      <td>0</td>\n",
       "    </tr>\n",
       "    <tr>\n",
       "      <th>t</th>\n",
       "      <td>254.518</td>\n",
       "      <td>41</td>\n",
       "      <td>0</td>\n",
       "      <td>234.293</td>\n",
       "      <td>23</td>\n",
       "      <td>0</td>\n",
       "    </tr>\n",
       "    <tr>\n",
       "      <th>tA</th>\n",
       "      <td>308.135</td>\n",
       "      <td>42</td>\n",
       "      <td>0</td>\n",
       "      <td>287.91</td>\n",
       "      <td>24</td>\n",
       "      <td>0</td>\n",
       "    </tr>\n",
       "    <tr>\n",
       "      <th>tP</th>\n",
       "      <td>6390.71</td>\n",
       "      <td>42</td>\n",
       "      <td>0</td>\n",
       "      <td>6370.48</td>\n",
       "      <td>24</td>\n",
       "      <td>0</td>\n",
       "    </tr>\n",
       "    <tr>\n",
       "      <th>tC</th>\n",
       "      <td>1612.07</td>\n",
       "      <td>42</td>\n",
       "      <td>0</td>\n",
       "      <td>1591.84</td>\n",
       "      <td>24</td>\n",
       "      <td>0</td>\n",
       "    </tr>\n",
       "    <tr>\n",
       "      <th>1</th>\n",
       "      <td>6499.78</td>\n",
       "      <td>43</td>\n",
       "      <td>0</td>\n",
       "      <td>6479.55</td>\n",
       "      <td>25</td>\n",
       "      <td>0</td>\n",
       "    </tr>\n",
       "  </tbody>\n",
       "</table>\n",
       "</div>"
      ],
      "text/plain": [
       "    deviance df_resid     P>chi_sq LR_vs_APC df_vs_APC     P>chi_sq\n",
       "APC   20.225       18     0.320298       NaN       NaN          NaN\n",
       "AP   25.5579       30     0.697492   5.33293        12     0.945925\n",
       "AC   21.4537       20     0.370873   1.22876         2     0.540975\n",
       "PC   99.2285       27  3.44469e-10   79.0035         9  2.54907e-13\n",
       "Ad   26.5839       32     0.737221   6.35894        14     0.956618\n",
       "Pd   253.562       39            0   233.337        21            0\n",
       "Cd   100.712       29  7.52274e-10   80.4873        11  1.18783e-12\n",
       "A    85.5773       33  1.49555e-06   65.3523        15  2.96382e-08\n",
       "P    6390.15       40            0   6369.92        22            0\n",
       "C    1217.03       30            0   1196.81        12            0\n",
       "t    254.518       41            0   234.293        23            0\n",
       "tA   308.135       42            0    287.91        24            0\n",
       "tP   6390.71       42            0   6370.48        24            0\n",
       "tC   1612.07       42            0   1591.84        24            0\n",
       "1    6499.78       43            0   6479.55        25            0"
      ]
     },
     "execution_count": 15,
     "metadata": {},
     "output_type": "execute_result"
    }
   ],
   "source": [
    "model.fit_table()\n",
    "model.deviance_table"
   ]
  },
  {
   "cell_type": "markdown",
   "metadata": {},
   "source": [
    "We can see that a number of reductions are not rejected. This includes the an age-period model that cannot be rejected against the age-period-cohort model with a p-value of 0.95 (last column), an age-cohort model with a p-value of 0.54, and an age-drift model with a p-value of 0.96. The age-drift model allows for age effects but restrict cohort and period effects to linear trends (the trend in age and cohort direction also allows for a trend in the period direction)."
   ]
  },
  {
   "cell_type": "markdown",
   "metadata": {},
   "source": [
    "The paper goes on to consider further restrictions on the age effect in the age-drift model.\n",
    "\n",
    "Before looking at this, we fit and age-drift model and plot the parameters."
   ]
  },
  {
   "cell_type": "code",
   "execution_count": 16,
   "metadata": {},
   "outputs": [
    {
     "data": {
      "image/png": "[encoded data removed]",
      "text/plain": [
       "<Figure size 720x576 with 9 Axes>"
      ]
     },
     "metadata": {},
     "output_type": "display_data"
    }
   ],
   "source": [
    "model_Ad = model.clone()\n",
    "model_Ad.fit('poisson_dose_response', 'Ad')\n",
    "\n",
    "model_Ad.plot_parameters()"
   ]
  },
  {
   "cell_type": "markdown",
   "metadata": {},
   "source": [
    "The idea is now to investigate whether the age effect could reasonably be restricted to be cubic or quadratic.\n",
    "\n",
    "Reductions of this type are not by default implemented in the package. However, we can pass a restriction matrix ``R`` to ``Model.fit``. This matrixes right-multiplies the design generated by the predictor choice to allow for individualized restrictions. However, further analysis then needs to be done by hand.\n",
    "\n",
    "As explained in the paper, a cubic age effect corresponds to a linear trend in the double differences so\n",
    "\n",
    "$$ H_{Adc}: \\Delta^2 \\alpha_i = a + b (i-2) $$\n",
    "\n",
    "A quadratic age effect further restricts the double differences to be constant so\n",
    "\n",
    "$$ H_{Adq}: \\Delta^2 \\alpha_i = a .$$\n"
   ]
  },
  {
   "cell_type": "markdown",
   "metadata": {},
   "source": [
    "Having fitted the model, we can access the design matrix of the age-drift model as follows:"
   ]
  },
  {
   "cell_type": "code",
   "execution_count": 17,
   "metadata": {},
   "outputs": [
    {
     "data": {
      "text/html": [
       "<div>\n",
       "<style scoped>\n",
       "    .dataframe tbody tr th:only-of-type {\n",
       "        vertical-align: middle;\n",
       "    }\n",
       "\n",
       "    .dataframe tbody tr th {\n",
       "        vertical-align: top;\n",
       "    }\n",
       "\n",
       "    .dataframe thead th {\n",
       "        text-align: right;\n",
       "    }\n",
       "</style>\n",
       "<table border=\"1\" class=\"dataframe\">\n",
       "  <thead>\n",
       "    <tr style=\"text-align: right;\">\n",
       "      <th></th>\n",
       "      <th></th>\n",
       "      <th></th>\n",
       "      <th>level</th>\n",
       "      <th>slope_age</th>\n",
       "      <th>slope_coh</th>\n",
       "      <th>dd_age_35-39</th>\n",
       "      <th>dd_age_40-44</th>\n",
       "      <th>dd_age_45-49</th>\n",
       "      <th>dd_age_50-54</th>\n",
       "      <th>dd_age_55-59</th>\n",
       "      <th>dd_age_60-64</th>\n",
       "      <th>dd_age_65-69</th>\n",
       "      <th>dd_age_70-74</th>\n",
       "      <th>dd_age_75-79</th>\n",
       "    </tr>\n",
       "    <tr>\n",
       "      <th>Period</th>\n",
       "      <th>Age</th>\n",
       "      <th>Cohort</th>\n",
       "      <th></th>\n",
       "      <th></th>\n",
       "      <th></th>\n",
       "      <th></th>\n",
       "      <th></th>\n",
       "      <th></th>\n",
       "      <th></th>\n",
       "      <th></th>\n",
       "      <th></th>\n",
       "      <th></th>\n",
       "      <th></th>\n",
       "      <th></th>\n",
       "    </tr>\n",
       "  </thead>\n",
       "  <tbody>\n",
       "    <tr>\n",
       "      <th rowspan=\"5\" valign=\"top\">1955-1959</th>\n",
       "      <th>25-29</th>\n",
       "      <th>1926-1934</th>\n",
       "      <td>1</td>\n",
       "      <td>-5</td>\n",
       "      <td>5</td>\n",
       "      <td>1</td>\n",
       "      <td>2</td>\n",
       "      <td>3</td>\n",
       "      <td>4</td>\n",
       "      <td>5</td>\n",
       "      <td>0</td>\n",
       "      <td>0</td>\n",
       "      <td>0</td>\n",
       "      <td>0</td>\n",
       "    </tr>\n",
       "    <tr>\n",
       "      <th>30-34</th>\n",
       "      <th>1921-1929</th>\n",
       "      <td>1</td>\n",
       "      <td>-4</td>\n",
       "      <td>4</td>\n",
       "      <td>0</td>\n",
       "      <td>1</td>\n",
       "      <td>2</td>\n",
       "      <td>3</td>\n",
       "      <td>4</td>\n",
       "      <td>0</td>\n",
       "      <td>0</td>\n",
       "      <td>0</td>\n",
       "      <td>0</td>\n",
       "    </tr>\n",
       "    <tr>\n",
       "      <th>35-39</th>\n",
       "      <th>1916-1924</th>\n",
       "      <td>1</td>\n",
       "      <td>-3</td>\n",
       "      <td>3</td>\n",
       "      <td>0</td>\n",
       "      <td>0</td>\n",
       "      <td>1</td>\n",
       "      <td>2</td>\n",
       "      <td>3</td>\n",
       "      <td>0</td>\n",
       "      <td>0</td>\n",
       "      <td>0</td>\n",
       "      <td>0</td>\n",
       "    </tr>\n",
       "    <tr>\n",
       "      <th>40-44</th>\n",
       "      <th>1911-1919</th>\n",
       "      <td>1</td>\n",
       "      <td>-2</td>\n",
       "      <td>2</td>\n",
       "      <td>0</td>\n",
       "      <td>0</td>\n",
       "      <td>0</td>\n",
       "      <td>1</td>\n",
       "      <td>2</td>\n",
       "      <td>0</td>\n",
       "      <td>0</td>\n",
       "      <td>0</td>\n",
       "      <td>0</td>\n",
       "    </tr>\n",
       "    <tr>\n",
       "      <th>45-49</th>\n",
       "      <th>1906-1914</th>\n",
       "      <td>1</td>\n",
       "      <td>-1</td>\n",
       "      <td>1</td>\n",
       "      <td>0</td>\n",
       "      <td>0</td>\n",
       "      <td>0</td>\n",
       "      <td>0</td>\n",
       "      <td>1</td>\n",
       "      <td>0</td>\n",
       "      <td>0</td>\n",
       "      <td>0</td>\n",
       "      <td>0</td>\n",
       "    </tr>\n",
       "  </tbody>\n",
       "</table>\n",
       "</div>"
      ],
      "text/plain": [
       "                           level  slope_age  slope_coh  dd_age_35-39  \\\n",
       "Period    Age   Cohort                                                 \n",
       "1955-1959 25-29 1926-1934      1         -5          5             1   \n",
       "          30-34 1921-1929      1         -4          4             0   \n",
       "          35-39 1916-1924      1         -3          3             0   \n",
       "          40-44 1911-1919      1         -2          2             0   \n",
       "          45-49 1906-1914      1         -1          1             0   \n",
       "\n",
       "                           dd_age_40-44  dd_age_45-49  dd_age_50-54  \\\n",
       "Period    Age   Cohort                                                \n",
       "1955-1959 25-29 1926-1934             2             3             4   \n",
       "          30-34 1921-1929             1             2             3   \n",
       "          35-39 1916-1924             0             1             2   \n",
       "          40-44 1911-1919             0             0             1   \n",
       "          45-49 1906-1914             0             0             0   \n",
       "\n",
       "                           dd_age_55-59  dd_age_60-64  dd_age_65-69  \\\n",
       "Period    Age   Cohort                                                \n",
       "1955-1959 25-29 1926-1934             5             0             0   \n",
       "          30-34 1921-1929             4             0             0   \n",
       "          35-39 1916-1924             3             0             0   \n",
       "          40-44 1911-1919             2             0             0   \n",
       "          45-49 1906-1914             1             0             0   \n",
       "\n",
       "                           dd_age_70-74  dd_age_75-79  \n",
       "Period    Age   Cohort                                 \n",
       "1955-1959 25-29 1926-1934             0             0  \n",
       "          30-34 1921-1929             0             0  \n",
       "          35-39 1916-1924             0             0  \n",
       "          40-44 1911-1919             0             0  \n",
       "          45-49 1906-1914             0             0  "
      ]
     },
     "execution_count": 17,
     "metadata": {},
     "output_type": "execute_result"
    }
   ],
   "source": [
    "model_Ad.design.head()"
   ]
  },
  {
   "cell_type": "markdown",
   "metadata": {},
   "source": [
    "We construct the ``R`` matrix for the cubic restriction."
   ]
  },
  {
   "cell_type": "code",
   "execution_count": 18,
   "metadata": {},
   "outputs": [],
   "source": [
    "import numpy as np \n",
    "import pandas as pd\n",
    "row_idx = model_Ad.design.columns\n",
    "col_idx = ['level', 'slope_age', 'slope_coh', 'a', 'b']\n",
    "R_Adc = pd.DataFrame(0., row_idx, col_idx)\n",
    "R_Adc.loc[['level', 'slope_age', 'slope_coh'], ['level', 'slope_age', 'slope_coh']] = np.identity(3)\n",
    "R_Adc.loc['dd_age_35-39':, 'a'] = 1.\n",
    "R_Adc.loc['dd_age_35-39':, 'b'] = range(model.I-2)"
   ]
  },
  {
   "cell_type": "markdown",
   "metadata": {},
   "source": [
    "Lets take a look at the restriction matrix:"
   ]
  },
  {
   "cell_type": "code",
   "execution_count": 19,
   "metadata": {},
   "outputs": [
    {
     "data": {
      "text/html": [
       "<div>\n",
       "<style scoped>\n",
       "    .dataframe tbody tr th:only-of-type {\n",
       "        vertical-align: middle;\n",
       "    }\n",
       "\n",
       "    .dataframe tbody tr th {\n",
       "        vertical-align: top;\n",
       "    }\n",
       "\n",
       "    .dataframe thead th {\n",
       "        text-align: right;\n",
       "    }\n",
       "</style>\n",
       "<table border=\"1\" class=\"dataframe\">\n",
       "  <thead>\n",
       "    <tr style=\"text-align: right;\">\n",
       "      <th></th>\n",
       "      <th>level</th>\n",
       "      <th>slope_age</th>\n",
       "      <th>slope_coh</th>\n",
       "      <th>a</th>\n",
       "      <th>b</th>\n",
       "    </tr>\n",
       "  </thead>\n",
       "  <tbody>\n",
       "    <tr>\n",
       "      <th>level</th>\n",
       "      <td>1.0</td>\n",
       "      <td>0.0</td>\n",
       "      <td>0.0</td>\n",
       "      <td>0.0</td>\n",
       "      <td>0.0</td>\n",
       "    </tr>\n",
       "    <tr>\n",
       "      <th>slope_age</th>\n",
       "      <td>0.0</td>\n",
       "      <td>1.0</td>\n",
       "      <td>0.0</td>\n",
       "      <td>0.0</td>\n",
       "      <td>0.0</td>\n",
       "    </tr>\n",
       "    <tr>\n",
       "      <th>slope_coh</th>\n",
       "      <td>0.0</td>\n",
       "      <td>0.0</td>\n",
       "      <td>1.0</td>\n",
       "      <td>0.0</td>\n",
       "      <td>0.0</td>\n",
       "    </tr>\n",
       "    <tr>\n",
       "      <th>dd_age_35-39</th>\n",
       "      <td>0.0</td>\n",
       "      <td>0.0</td>\n",
       "      <td>0.0</td>\n",
       "      <td>1.0</td>\n",
       "      <td>0.0</td>\n",
       "    </tr>\n",
       "    <tr>\n",
       "      <th>dd_age_40-44</th>\n",
       "      <td>0.0</td>\n",
       "      <td>0.0</td>\n",
       "      <td>0.0</td>\n",
       "      <td>1.0</td>\n",
       "      <td>1.0</td>\n",
       "    </tr>\n",
       "    <tr>\n",
       "      <th>dd_age_45-49</th>\n",
       "      <td>0.0</td>\n",
       "      <td>0.0</td>\n",
       "      <td>0.0</td>\n",
       "      <td>1.0</td>\n",
       "      <td>2.0</td>\n",
       "    </tr>\n",
       "    <tr>\n",
       "      <th>dd_age_50-54</th>\n",
       "      <td>0.0</td>\n",
       "      <td>0.0</td>\n",
       "      <td>0.0</td>\n",
       "      <td>1.0</td>\n",
       "      <td>3.0</td>\n",
       "    </tr>\n",
       "    <tr>\n",
       "      <th>dd_age_55-59</th>\n",
       "      <td>0.0</td>\n",
       "      <td>0.0</td>\n",
       "      <td>0.0</td>\n",
       "      <td>1.0</td>\n",
       "      <td>4.0</td>\n",
       "    </tr>\n",
       "    <tr>\n",
       "      <th>dd_age_60-64</th>\n",
       "      <td>0.0</td>\n",
       "      <td>0.0</td>\n",
       "      <td>0.0</td>\n",
       "      <td>1.0</td>\n",
       "      <td>5.0</td>\n",
       "    </tr>\n",
       "    <tr>\n",
       "      <th>dd_age_65-69</th>\n",
       "      <td>0.0</td>\n",
       "      <td>0.0</td>\n",
       "      <td>0.0</td>\n",
       "      <td>1.0</td>\n",
       "      <td>6.0</td>\n",
       "    </tr>\n",
       "    <tr>\n",
       "      <th>dd_age_70-74</th>\n",
       "      <td>0.0</td>\n",
       "      <td>0.0</td>\n",
       "      <td>0.0</td>\n",
       "      <td>1.0</td>\n",
       "      <td>7.0</td>\n",
       "    </tr>\n",
       "    <tr>\n",
       "      <th>dd_age_75-79</th>\n",
       "      <td>0.0</td>\n",
       "      <td>0.0</td>\n",
       "      <td>0.0</td>\n",
       "      <td>1.0</td>\n",
       "      <td>8.0</td>\n",
       "    </tr>\n",
       "  </tbody>\n",
       "</table>\n",
       "</div>"
      ],
      "text/plain": [
       "              level  slope_age  slope_coh    a    b\n",
       "level           1.0        0.0        0.0  0.0  0.0\n",
       "slope_age       0.0        1.0        0.0  0.0  0.0\n",
       "slope_coh       0.0        0.0        1.0  0.0  0.0\n",
       "dd_age_35-39    0.0        0.0        0.0  1.0  0.0\n",
       "dd_age_40-44    0.0        0.0        0.0  1.0  1.0\n",
       "dd_age_45-49    0.0        0.0        0.0  1.0  2.0\n",
       "dd_age_50-54    0.0        0.0        0.0  1.0  3.0\n",
       "dd_age_55-59    0.0        0.0        0.0  1.0  4.0\n",
       "dd_age_60-64    0.0        0.0        0.0  1.0  5.0\n",
       "dd_age_65-69    0.0        0.0        0.0  1.0  6.0\n",
       "dd_age_70-74    0.0        0.0        0.0  1.0  7.0\n",
       "dd_age_75-79    0.0        0.0        0.0  1.0  8.0"
      ]
     },
     "execution_count": 19,
     "metadata": {},
     "output_type": "execute_result"
    }
   ],
   "source": [
    "R_Adc"
   ]
  },
  {
   "cell_type": "markdown",
   "metadata": {},
   "source": [
    "Going on to fit the model:"
   ]
  },
  {
   "cell_type": "code",
   "execution_count": 20,
   "metadata": {},
   "outputs": [],
   "source": [
    "model_Adc = model_Ad.clone()\n",
    "model_Adc.fit('poisson_dose_response', 'Ad', R=R_Adc)"
   ]
  },
  {
   "cell_type": "markdown",
   "metadata": {},
   "source": [
    "We can now access the deviance as"
   ]
  },
  {
   "cell_type": "code",
   "execution_count": 21,
   "metadata": {},
   "outputs": [
    {
     "data": {
      "text/plain": [
       "31.568745495181624"
      ]
     },
     "execution_count": 21,
     "metadata": {},
     "output_type": "execute_result"
    }
   ],
   "source": [
    "model_Adc.deviance"
   ]
  },
  {
   "cell_type": "markdown",
   "metadata": {},
   "source": [
    "and the degrees of freedom with"
   ]
  },
  {
   "cell_type": "code",
   "execution_count": 22,
   "metadata": {},
   "outputs": [
    {
     "data": {
      "text/plain": [
       "39"
      ]
     },
     "execution_count": 22,
     "metadata": {},
     "output_type": "execute_result"
    }
   ],
   "source": [
    "model_Adc.df_resid"
   ]
  },
  {
   "cell_type": "markdown",
   "metadata": {},
   "source": [
    "To compute the p-value, we have to get some help, working outside of the model framework:"
   ]
  },
  {
   "cell_type": "code",
   "execution_count": 23,
   "metadata": {},
   "outputs": [
    {
     "name": "stdout",
     "output_type": "stream",
     "text": [
      "p-value of deviance: 0.80\n"
     ]
    }
   ],
   "source": [
    "from scipy import stats\n",
    "\n",
    "print('p-value of deviance: {:.2f}'.format(\n",
    "    stats.chi2.sf(model_Adc.deviance, model_Adc.df_resid)))"
   ]
  },
  {
   "cell_type": "markdown",
   "metadata": {},
   "source": [
    "The likelihood ratio to the age-drift model is given by"
   ]
  },
  {
   "cell_type": "code",
   "execution_count": 24,
   "metadata": {},
   "outputs": [
    {
     "data": {
      "text/plain": [
       "4.984842888829309"
      ]
     },
     "execution_count": 24,
     "metadata": {},
     "output_type": "execute_result"
    }
   ],
   "source": [
    "model_Adc.deviance - model_Ad.deviance"
   ]
  },
  {
   "cell_type": "markdown",
   "metadata": {},
   "source": [
    "This yields a p-value of"
   ]
  },
  {
   "cell_type": "code",
   "execution_count": 25,
   "metadata": {},
   "outputs": [
    {
     "data": {
      "text/plain": [
       "0.6618130195072733"
      ]
     },
     "execution_count": 25,
     "metadata": {},
     "output_type": "execute_result"
    }
   ],
   "source": [
    "stats.chi2.sf(model_Adc.deviance - model_Ad.deviance, \n",
    "              model_Adc.df_resid - model_Ad.df_resid)"
   ]
  },
  {
   "cell_type": "markdown",
   "metadata": {},
   "source": [
    "Next, we look at the quadratic restriction, following the same process."
   ]
  },
  {
   "cell_type": "code",
   "execution_count": 26,
   "metadata": {},
   "outputs": [
    {
     "data": {
      "text/html": [
       "<div>\n",
       "<style scoped>\n",
       "    .dataframe tbody tr th:only-of-type {\n",
       "        vertical-align: middle;\n",
       "    }\n",
       "\n",
       "    .dataframe tbody tr th {\n",
       "        vertical-align: top;\n",
       "    }\n",
       "\n",
       "    .dataframe thead th {\n",
       "        text-align: right;\n",
       "    }\n",
       "</style>\n",
       "<table border=\"1\" class=\"dataframe\">\n",
       "  <thead>\n",
       "    <tr style=\"text-align: right;\">\n",
       "      <th></th>\n",
       "      <th>level</th>\n",
       "      <th>slope_age</th>\n",
       "      <th>slope_coh</th>\n",
       "      <th>a</th>\n",
       "    </tr>\n",
       "  </thead>\n",
       "  <tbody>\n",
       "    <tr>\n",
       "      <th>level</th>\n",
       "      <td>1.0</td>\n",
       "      <td>0.0</td>\n",
       "      <td>0.0</td>\n",
       "      <td>0.0</td>\n",
       "    </tr>\n",
       "    <tr>\n",
       "      <th>slope_age</th>\n",
       "      <td>0.0</td>\n",
       "      <td>1.0</td>\n",
       "      <td>0.0</td>\n",
       "      <td>0.0</td>\n",
       "    </tr>\n",
       "    <tr>\n",
       "      <th>slope_coh</th>\n",
       "      <td>0.0</td>\n",
       "      <td>0.0</td>\n",
       "      <td>1.0</td>\n",
       "      <td>0.0</td>\n",
       "    </tr>\n",
       "    <tr>\n",
       "      <th>dd_age_35-39</th>\n",
       "      <td>0.0</td>\n",
       "      <td>0.0</td>\n",
       "      <td>0.0</td>\n",
       "      <td>1.0</td>\n",
       "    </tr>\n",
       "    <tr>\n",
       "      <th>dd_age_40-44</th>\n",
       "      <td>0.0</td>\n",
       "      <td>0.0</td>\n",
       "      <td>0.0</td>\n",
       "      <td>1.0</td>\n",
       "    </tr>\n",
       "    <tr>\n",
       "      <th>dd_age_45-49</th>\n",
       "      <td>0.0</td>\n",
       "      <td>0.0</td>\n",
       "      <td>0.0</td>\n",
       "      <td>1.0</td>\n",
       "    </tr>\n",
       "    <tr>\n",
       "      <th>dd_age_50-54</th>\n",
       "      <td>0.0</td>\n",
       "      <td>0.0</td>\n",
       "      <td>0.0</td>\n",
       "      <td>1.0</td>\n",
       "    </tr>\n",
       "    <tr>\n",
       "      <th>dd_age_55-59</th>\n",
       "      <td>0.0</td>\n",
       "      <td>0.0</td>\n",
       "      <td>0.0</td>\n",
       "      <td>1.0</td>\n",
       "    </tr>\n",
       "    <tr>\n",
       "      <th>dd_age_60-64</th>\n",
       "      <td>0.0</td>\n",
       "      <td>0.0</td>\n",
       "      <td>0.0</td>\n",
       "      <td>1.0</td>\n",
       "    </tr>\n",
       "    <tr>\n",
       "      <th>dd_age_65-69</th>\n",
       "      <td>0.0</td>\n",
       "      <td>0.0</td>\n",
       "      <td>0.0</td>\n",
       "      <td>1.0</td>\n",
       "    </tr>\n",
       "    <tr>\n",
       "      <th>dd_age_70-74</th>\n",
       "      <td>0.0</td>\n",
       "      <td>0.0</td>\n",
       "      <td>0.0</td>\n",
       "      <td>1.0</td>\n",
       "    </tr>\n",
       "    <tr>\n",
       "      <th>dd_age_75-79</th>\n",
       "      <td>0.0</td>\n",
       "      <td>0.0</td>\n",
       "      <td>0.0</td>\n",
       "      <td>1.0</td>\n",
       "    </tr>\n",
       "  </tbody>\n",
       "</table>\n",
       "</div>"
      ],
      "text/plain": [
       "              level  slope_age  slope_coh    a\n",
       "level           1.0        0.0        0.0  0.0\n",
       "slope_age       0.0        1.0        0.0  0.0\n",
       "slope_coh       0.0        0.0        1.0  0.0\n",
       "dd_age_35-39    0.0        0.0        0.0  1.0\n",
       "dd_age_40-44    0.0        0.0        0.0  1.0\n",
       "dd_age_45-49    0.0        0.0        0.0  1.0\n",
       "dd_age_50-54    0.0        0.0        0.0  1.0\n",
       "dd_age_55-59    0.0        0.0        0.0  1.0\n",
       "dd_age_60-64    0.0        0.0        0.0  1.0\n",
       "dd_age_65-69    0.0        0.0        0.0  1.0\n",
       "dd_age_70-74    0.0        0.0        0.0  1.0\n",
       "dd_age_75-79    0.0        0.0        0.0  1.0"
      ]
     },
     "execution_count": 26,
     "metadata": {},
     "output_type": "execute_result"
    }
   ],
   "source": [
    "R_Adq = R_Adc.drop('b', axis=1)\n",
    "\n",
    "R_Adq"
   ]
  },
  {
   "cell_type": "code",
   "execution_count": 27,
   "metadata": {},
   "outputs": [],
   "source": [
    "model_Adq = model_Ad.clone()\n",
    "model_Adq.fit('poisson_dose_response', 'Ad', R=R_Adq)"
   ]
  },
  {
   "cell_type": "code",
   "execution_count": 28,
   "metadata": {},
   "outputs": [
    {
     "data": {
      "text/plain": [
       "39.44745618141044"
      ]
     },
     "execution_count": 28,
     "metadata": {},
     "output_type": "execute_result"
    }
   ],
   "source": [
    "model_Adq.deviance"
   ]
  },
  {
   "cell_type": "code",
   "execution_count": 29,
   "metadata": {},
   "outputs": [
    {
     "data": {
      "text/plain": [
       "40"
      ]
     },
     "execution_count": 29,
     "metadata": {},
     "output_type": "execute_result"
    }
   ],
   "source": [
    "model_Adq.df_resid"
   ]
  },
  {
   "cell_type": "code",
   "execution_count": 30,
   "metadata": {},
   "outputs": [
    {
     "name": "stdout",
     "output_type": "stream",
     "text": [
      "p-value of deviance: 0.49\n"
     ]
    }
   ],
   "source": [
    "print('p-value of deviance: {:.2f}'.format(\n",
    "    stats.chi2.sf(model_Adq.deviance, model_Adq.df_resid)))"
   ]
  },
  {
   "cell_type": "markdown",
   "metadata": {},
   "source": [
    "The likelihood ratio to the age-drift model is given by"
   ]
  },
  {
   "cell_type": "code",
   "execution_count": 31,
   "metadata": {},
   "outputs": [
    {
     "data": {
      "text/plain": [
       "12.863553575058123"
      ]
     },
     "execution_count": 31,
     "metadata": {},
     "output_type": "execute_result"
    }
   ],
   "source": [
    "model_Adq.deviance - model_Ad.deviance"
   ]
  },
  {
   "cell_type": "markdown",
   "metadata": {},
   "source": [
    "This yields a p-value of"
   ]
  },
  {
   "cell_type": "code",
   "execution_count": 32,
   "metadata": {},
   "outputs": [
    {
     "data": {
      "text/plain": [
       "0.11663133042418931"
      ]
     },
     "execution_count": 32,
     "metadata": {},
     "output_type": "execute_result"
    }
   ],
   "source": [
    "stats.chi2.sf(model_Adq.deviance - model_Ad.deviance, \n",
    "              model_Adq.df_resid - model_Ad.df_resid)"
   ]
  },
  {
   "cell_type": "markdown",
   "metadata": {},
   "source": [
    "Thus, neither the cubic nor the quadratic model can be rejected against the age-drift model. With this, we have reconstructed Table 5."
   ]
  },
  {
   "cell_type": "markdown",
   "metadata": {},
   "source": [
    "We move on to evaluate whether the quadratic model is a valid reduction not from the age-drift, but from the cubic model whose immediate child the quadratic model is."
   ]
  },
  {
   "cell_type": "markdown",
   "metadata": {},
   "source": [
    "We can do this, again, with a likelihood ratio test as in the paper. The likelihood ratio is "
   ]
  },
  {
   "cell_type": "code",
   "execution_count": 33,
   "metadata": {},
   "outputs": [
    {
     "data": {
      "text/plain": [
       "7.878710686228814"
      ]
     },
     "execution_count": 33,
     "metadata": {},
     "output_type": "execute_result"
    }
   ],
   "source": [
    "model_Adq.deviance - model_Adc.deviance"
   ]
  },
  {
   "cell_type": "markdown",
   "metadata": {},
   "source": [
    "which, with one degree of freedom yields a p-value of"
   ]
  },
  {
   "cell_type": "code",
   "execution_count": 34,
   "metadata": {},
   "outputs": [
    {
     "data": {
      "text/plain": [
       "0.0050020128857816495"
      ]
     },
     "execution_count": 34,
     "metadata": {},
     "output_type": "execute_result"
    }
   ],
   "source": [
    "stats.chi2.sf(model_Adq.deviance - model_Adc.deviance, \n",
    "              model_Adq.df_resid - model_Adc.df_resid)"
   ]
  },
  {
   "cell_type": "markdown",
   "metadata": {},
   "source": [
    "Thus, the reduction is rejected."
   ]
  },
  {
   "cell_type": "markdown",
   "metadata": {},
   "source": [
    "Rather than employing a likelihood ratio test, we could also look at the parameter table to gauge whether the slope $b$ is significant in the Adc model:"
   ]
  },
  {
   "cell_type": "code",
   "execution_count": 35,
   "metadata": {},
   "outputs": [
    {
     "data": {
      "text/html": [
       "<div>\n",
       "<style scoped>\n",
       "    .dataframe tbody tr th:only-of-type {\n",
       "        vertical-align: middle;\n",
       "    }\n",
       "\n",
       "    .dataframe tbody tr th {\n",
       "        vertical-align: top;\n",
       "    }\n",
       "\n",
       "    .dataframe thead th {\n",
       "        text-align: right;\n",
       "    }\n",
       "</style>\n",
       "<table border=\"1\" class=\"dataframe\">\n",
       "  <thead>\n",
       "    <tr style=\"text-align: right;\">\n",
       "      <th></th>\n",
       "      <th>coef</th>\n",
       "      <th>std_err</th>\n",
       "      <th>z</th>\n",
       "      <th>P&gt;|z|</th>\n",
       "    </tr>\n",
       "  </thead>\n",
       "  <tbody>\n",
       "    <tr>\n",
       "      <th>level</th>\n",
       "      <td>1.973417</td>\n",
       "      <td>0.030819</td>\n",
       "      <td>64.033340</td>\n",
       "      <td>0.000000e+00</td>\n",
       "    </tr>\n",
       "    <tr>\n",
       "      <th>slope_age</th>\n",
       "      <td>0.487573</td>\n",
       "      <td>0.016957</td>\n",
       "      <td>28.753802</td>\n",
       "      <td>8.118543e-182</td>\n",
       "    </tr>\n",
       "    <tr>\n",
       "      <th>slope_coh</th>\n",
       "      <td>0.088776</td>\n",
       "      <td>0.011575</td>\n",
       "      <td>7.669945</td>\n",
       "      <td>1.720702e-14</td>\n",
       "    </tr>\n",
       "    <tr>\n",
       "      <th>a</th>\n",
       "      <td>-0.133369</td>\n",
       "      <td>0.026326</td>\n",
       "      <td>-5.066162</td>\n",
       "      <td>4.059160e-07</td>\n",
       "    </tr>\n",
       "    <tr>\n",
       "      <th>b</th>\n",
       "      <td>0.014200</td>\n",
       "      <td>0.005128</td>\n",
       "      <td>2.769198</td>\n",
       "      <td>5.619451e-03</td>\n",
       "    </tr>\n",
       "  </tbody>\n",
       "</table>\n",
       "</div>"
      ],
      "text/plain": [
       "               coef   std_err          z          P>|z|\n",
       "level      1.973417  0.030819  64.033340   0.000000e+00\n",
       "slope_age  0.487573  0.016957  28.753802  8.118543e-182\n",
       "slope_coh  0.088776  0.011575   7.669945   1.720702e-14\n",
       "a         -0.133369  0.026326  -5.066162   4.059160e-07\n",
       "b          0.014200  0.005128   2.769198   5.619451e-03"
      ]
     },
     "execution_count": 35,
     "metadata": {},
     "output_type": "execute_result"
    }
   ],
   "source": [
    "model_Adc.parameters"
   ]
  },
  {
   "cell_type": "markdown",
   "metadata": {},
   "source": [
    "This is confirmed with a p-value of 0.006 so that this approach gives us the same indication."
   ]
  },
  {
   "cell_type": "markdown",
   "metadata": {},
   "source": [
    "# References\n",
    "\n",
    "* Clayton, D. and Schifflers, E. (1987). Models for temporal variation in cancer rates. I: age-period and age-cohort models. *Statistics in Medicine* 6, 449-467.\n",
    "* Kuang, D., Nielsen, B., & Nielsen, J. P. (2008). Identification of the age-period-cohort model and the extended chain-ladder model. *Biometrika*, 95(4), 979–986. [Open Access](https://doi.org/10.1093/biomet/asn026)\n",
    "* Nielsen, B. (2014). Deviance analysis of age-period-cohort models. *Nuffield Discussion Paper*, (W03). [Download](http://www.nuffield.ox.ac.uk/economics/papers/2014/apc_deviance.pdf)\n",
    "* Nielsen, B. (2015). apc: An R Package for Age-Period-Cohort Analysis. *The R Journal*, 7(2), 52–64. [Open Access](https://journal.r-project.org/archive/2015-2/nielsen.pdf)"
   ]
  }
 ],
 "metadata": {
  "kernelspec": {
   "display_name": "Python 3",
   "language": "python",
   "name": "python3"
  },
  "language_info": {
   "codemirror_mode": {
    "name": "ipython",
    "version": 3
   },
   "file_extension": ".py",
   "mimetype": "text/x-python",
   "name": "python",
   "nbconvert_exporter": "python",
   "pygments_lexer": "ipython3",
   "version": "3.6.6"
  }
 },
 "nbformat": 4,
 "nbformat_minor": 2
}
