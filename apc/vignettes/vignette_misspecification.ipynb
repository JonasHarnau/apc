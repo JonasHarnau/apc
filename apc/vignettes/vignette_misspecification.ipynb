{
 "cells": [
  {
   "cell_type": "markdown",
   "metadata": {},
   "source": [
    "# Misspecification Tests for Log-Normal and Over-Dispersed Poisson Chain-Ladder Models\n",
    "\n",
    "We replicate the empirical applications in [Harnau (2018)](http://mdpi.com/2227-9091/6/2/25) in Section 5.\n",
    "\n",
    "*The work on this vignette was supported by the European Research Council, grant AdG 694262.*"
   ]
  },
  {
   "cell_type": "markdown",
   "metadata": {},
   "source": [
    "First, we import the package"
   ]
  },
  {
   "cell_type": "code",
   "execution_count": 1,
   "metadata": {},
   "outputs": [],
   "source": [
    "import apc"
   ]
  },
  {
   "cell_type": "code",
   "execution_count": 2,
   "metadata": {},
   "outputs": [],
   "source": [
    "# Turn off future warnings\n",
    "import warnings\n",
    "warnings.simplefilter('ignore', FutureWarning)"
   ]
  },
  {
   "cell_type": "markdown",
   "metadata": {},
   "source": [
    "## 5.1 Log-Normal Chain-Ladder\n",
    "\n",
    "This corresponds to Section 5.1 in the paper. The data are taken from Verrall et al. (2010). Kuang et al. (2015) fitted a log-normal chain-ladder model to this data. The model is given by\n",
    "$$ M^{LN}_{\\mu, \\sigma^2}: \\quad \\log(Y_{ij}) \\stackrel{D}{=} N(\\alpha_i + \\beta_j + \\delta, \\sigma^2). $$\n",
    "They found that the largest residuals could be found within the first five accident years. Consequently, they raised the question whether the model is misspecified. Here, we investigate this question."
   ]
  },
  {
   "cell_type": "markdown",
   "metadata": {},
   "source": [
    "### Full model\n",
    "\n",
    "We set up and estimate the full, most restrictive, model $M^{LN}_{\\mu, \\sigma^2}$."
   ]
  },
  {
   "cell_type": "markdown",
   "metadata": {},
   "source": [
    "We begin by setting up a model class."
   ]
  },
  {
   "cell_type": "code",
   "execution_count": 3,
   "metadata": {},
   "outputs": [],
   "source": [
    "model_VNJ = apc.Model()"
   ]
  },
  {
   "cell_type": "markdown",
   "metadata": {},
   "source": [
    "Next, we attach the data for the model. The data come pre-formatted in the package."
   ]
  },
  {
   "cell_type": "code",
   "execution_count": 4,
   "metadata": {},
   "outputs": [],
   "source": [
    "model_VNJ.data_from_df(apc.loss_VNJ(), data_format='CL')"
   ]
  },
  {
   "cell_type": "markdown",
   "metadata": {},
   "source": [
    "We fit a log-normal chain-ladder model to the full data."
   ]
  },
  {
   "cell_type": "code",
   "execution_count": 5,
   "metadata": {},
   "outputs": [],
   "source": [
    "model_VNJ.fit('log_normal_response', 'AC')"
   ]
  },
  {
   "cell_type": "markdown",
   "metadata": {},
   "source": [
    "and confirm that we get the same result as in the paper for the log-data variance estimate $\\hat{\\sigma}^{2,LN}$ and the degrees of freedom $df$. This should correspond to the values for $\\mathcal{I}$ in Figure 2(b)."
   ]
  },
  {
   "cell_type": "code",
   "execution_count": 6,
   "metadata": {},
   "outputs": [
    {
     "name": "stdout",
     "output_type": "stream",
     "text": [
      "log-data variance full model: 0.075\n",
      "degrees of freedom full model: 36\n"
     ]
    }
   ],
   "source": [
    "print('log-data variance full model: {:.3f}'.format(model_VNJ.s2))\n",
    "print('degrees of freedom full model: {:.0f}'.format(model_VNJ.df_resid))"
   ]
  },
  {
   "cell_type": "markdown",
   "metadata": {},
   "source": [
    "This matches the results in the paper."
   ]
  },
  {
   "cell_type": "markdown",
   "metadata": {},
   "source": [
    "### Sub-models"
   ]
  },
  {
   "cell_type": "markdown",
   "metadata": {},
   "source": [
    "We move on to split the data into sub-samples. The sub-samples $\\mathcal{I}_1$ and $\\mathcal{I}_2$ contain the first and the last five accident years, respectively. Accident years correspond to \"cohorts\" in age-period-cohort terminology. Rather than first splitting the sample and the generating a new model and fitting it, we make use of the \"sub_model\" functionality of the package which does all that for us. Combined, the sub-models correspond to $M^{LN}$."
   ]
  },
  {
   "cell_type": "code",
   "execution_count": 7,
   "metadata": {},
   "outputs": [],
   "source": [
    "sub_model_VNJ_1 = model_VNJ.sub_model(coh_from_to=(1,5), fit=True)\n",
    "sub_model_VNJ_2 = model_VNJ.sub_model(coh_from_to=(6,10), fit=True)"
   ]
  },
  {
   "cell_type": "markdown",
   "metadata": {},
   "source": [
    "We can check that this generated the estimates $\\hat{\\sigma}^{2, LN}_\\ell$ and degrees of freedom $df_\\ell$ from the paper."
   ]
  },
  {
   "cell_type": "code",
   "execution_count": 8,
   "metadata": {},
   "outputs": [
    {
     "name": "stdout",
     "output_type": "stream",
     "text": [
      "First five accident years (I_1)\n",
      "-------------------------------\n",
      "log-data variance: 0.095\n",
      "degrees of freedom: 26\n",
      "\n",
      "Last five accident years (I_2)\n",
      "------------------------------\n",
      "log-data variance: 0.027\n",
      "degrees of freedom: 6\n"
     ]
    }
   ],
   "source": [
    "print('First five accident years (I_1)')\n",
    "print('-------------------------------')\n",
    "print('log-data variance: {:.3f}'.format(sub_model_VNJ_1.s2))\n",
    "print('degrees of freedom: {:.0f}\\n'.format(sub_model_VNJ_1.df_resid))\n",
    "\n",
    "print('Last five accident years (I_2)')\n",
    "print('------------------------------')\n",
    "print('log-data variance: {:.3f}'.format(sub_model_VNJ_2.s2))\n",
    "print('degrees of freedom: {:.0f}'.format(sub_model_VNJ_2.df_resid))"
   ]
  },
  {
   "cell_type": "markdown",
   "metadata": {},
   "source": [
    "Reassuringly, it does. We can then also compute the weighted average predictor $\\bar{\\sigma}^{2,LN}$"
   ]
  },
  {
   "cell_type": "code",
   "execution_count": 9,
   "metadata": {},
   "outputs": [
    {
     "name": "stdout",
     "output_type": "stream",
     "text": [
      "Weighted avg of log-data variance: 0.082\n"
     ]
    }
   ],
   "source": [
    "s2_bar_VNJ = ((sub_model_VNJ_1.s2 * sub_model_VNJ_1.df_resid \n",
    "              + sub_model_VNJ_2.s2 * sub_model_VNJ_2.df_resid)\n",
    "              /(sub_model_VNJ_1.df_resid + sub_model_VNJ_2.df_resid))\n",
    "print('Weighted avg of log-data variance: {:.3f}'.format(s2_bar_VNJ))"
   ]
  },
  {
   "cell_type": "markdown",
   "metadata": {},
   "source": [
    "Check!"
   ]
  },
  {
   "cell_type": "markdown",
   "metadata": {},
   "source": [
    "### Testing for common variances\n",
    "\n",
    "Now we can move on to test the hypothesis of common variances\n",
    "$$ H_{\\sigma^2}: \\sigma^2_1 = \\sigma^2_2. $$\n",
    "This corresponds to testing for a reduction from $M^{LN}$ to $M^{LN}_{\\sigma^2}$."
   ]
  },
  {
   "cell_type": "markdown",
   "metadata": {},
   "source": [
    "First, we can conduct a Bartlett test. This functionality is pre-implemented in the package."
   ]
  },
  {
   "cell_type": "code",
   "execution_count": 10,
   "metadata": {},
   "outputs": [],
   "source": [
    "bartlett_VNJ = apc.bartlett_test([sub_model_VNJ_1, sub_model_VNJ_2])"
   ]
  },
  {
   "cell_type": "markdown",
   "metadata": {},
   "source": [
    "The test statistic $B^{LN}$ is computed as the ratio of $LR^{LN}$ to the Bartlett correction factor $C$. The p-value is computed by the $\\chi^2$ approximation to the distribution of $B^{LN}$. The number of sub-samples is given by $m$."
   ]
  },
  {
   "cell_type": "code",
   "execution_count": 11,
   "metadata": {},
   "outputs": [
    {
     "name": "stdout",
     "output_type": "stream",
     "text": [
      "B: 2.79\n",
      "LR: 2.96\n",
      "C: 1.06\n",
      "m: 2.00\n",
      "p_value: 0.09\n"
     ]
    }
   ],
   "source": [
    "for key, value in bartlett_VNJ.items():\n",
    "    print('{}: {:.2f}'.format(key, value))"
   ]
  },
  {
   "cell_type": "markdown",
   "metadata": {},
   "source": [
    "We get the same results as in the paper. Specifically, we get a p-value of $0.09$ for the hypothesis so that the Bartlett test does not arm us with strong evidence against the null hypothesis."
   ]
  },
  {
   "cell_type": "markdown",
   "metadata": {},
   "source": [
    "In the paper, we also conduct an $F$-test for the same hypothesis. The statistic is computed as\n",
    "$$ F_{\\sigma^2}^{LN} = \\frac{\\hat\\sigma^{2,LN}_2}{\\hat\\sigma^{2,LN}_1} $$\n",
    "which, under the null, is distributed as $\\mathrm{F}_{df_2, df_1}$. This is not directly implemented in the package but still easily computed. "
   ]
  },
  {
   "cell_type": "markdown",
   "metadata": {},
   "source": [
    "First we compute the test statistic"
   ]
  },
  {
   "cell_type": "code",
   "execution_count": 12,
   "metadata": {},
   "outputs": [
    {
     "name": "stdout",
     "output_type": "stream",
     "text": [
      "F statistic for common variances: 0.28\n"
     ]
    }
   ],
   "source": [
    "F_VNJ_sigma2 = sub_model_VNJ_2.s2/sub_model_VNJ_1.s2\n",
    "print('F statistic for common variances: {:.2f}'.format(F_VNJ_sigma2))"
   ]
  },
  {
   "cell_type": "markdown",
   "metadata": {},
   "source": [
    "Now we can compute p-values in one-sided and two-sided tests. \n",
    "For an (equal-tailed) two-sided test, we first find the percentile $P(F_{\\sigma^2}^{LN} \\leq \\mathrm{F}_{df_2, df_1})$. This is given by"
   ]
  },
  {
   "cell_type": "code",
   "execution_count": 13,
   "metadata": {},
   "outputs": [
    {
     "name": "stdout",
     "output_type": "stream",
     "text": [
      "Percentile of F statistic: 0.06\n"
     ]
    }
   ],
   "source": [
    "from scipy import stats\n",
    "F_VNJ_sigma2_percentile = stats.f.cdf(\n",
    "    F_VNJ_sigma2, dfn=sub_model_VNJ_2.df_resid, dfd=sub_model_VNJ_1.df_resid\n",
    ")\n",
    "print('Percentile of F statistic: {:.2f}'.format(F_VNJ_sigma2_percentile))"
   ]
  },
  {
   "cell_type": "markdown",
   "metadata": {},
   "source": [
    "If this is below the 50th percentile, the p-value is simply twice the percentile, otherwise we subtract the percentile from unity and multiply that by two. For intuition, we can look at the plot below. The green areas in the lower and upper tail of the distribution contain the same probability mass, namely $P(F_{\\sigma^2}^{LN} \\leq \\mathrm{F}_{df_2, df_1})$. The two-sided p-value corresponds to the sum of the two areas."
   ]
  },
  {
   "cell_type": "code",
   "execution_count": 14,
   "metadata": {},
   "outputs": [
    {
     "data": {
      "image/png": "[encoded data removed]",
      "text/plain": [
       "<Figure size 432x288 with 1 Axes>"
      ]
     },
     "metadata": {},
     "output_type": "display_data"
    }
   ],
   "source": [
    "import matplotlib.pyplot as plt\n",
    "import numpy as np\n",
    "%matplotlib inline\n",
    "\n",
    "x = np.linspace(0.01,5,1000)\n",
    "y = stats.f.pdf(x, \n",
    "            dfn=sub_model_VNJ_2.df_resid, \n",
    "            dfd=sub_model_VNJ_1.df_resid)\n",
    "plt.figure()\n",
    "plt.plot(x, y, label='$\\mathrm{F}_{df_2, df_1}$ density')\n",
    "\n",
    "plt.axvline(F_VNJ_sigma2, color='black', linewidth=1, label='$F^{LN}_{\\sigma^2}$')\n",
    "tmp = stats.f.cdf(F_VNJ_sigma2, \n",
    "                  dfn=sub_model_VNJ_2.df_resid, \n",
    "                  dfd=sub_model_VNJ_1.df_resid)\n",
    "plt.fill_between(x[x < F_VNJ_sigma2], y[x < F_VNJ_sigma2], color='green', alpha=0.3)\n",
    "tmp = stats.f.ppf(1-tmp,\n",
    "                  dfn=sub_model_VNJ_2.df_resid, \n",
    "                  dfd=sub_model_VNJ_1.df_resid)\n",
    "plt.fill_between(x[x > tmp], y[x > tmp], color='green', alpha=0.3)\n",
    "plt.annotate('Area 0.06', xy=(0.15, 0.1), \n",
    "             xytext=(0.75, 0.15), arrowprops=dict(facecolor='black'))\n",
    "plt.annotate('Area 0.06', xy=(2.75, 0.025), \n",
    "             xytext=(3, 0.2), arrowprops=dict(facecolor='black'))\n",
    "plt.legend()\n",
    "plt.title('Two-sided F-test')\n",
    "plt.show()"
   ]
  },
  {
   "cell_type": "markdown",
   "metadata": {},
   "source": [
    "Since $F_{\\sigma^2}^{LN}$ is below the 50th percentile, the two-sided equal tailed p-value is in our case given by"
   ]
  },
  {
   "cell_type": "code",
   "execution_count": 15,
   "metadata": {},
   "outputs": [
    {
     "name": "stdout",
     "output_type": "stream",
     "text": [
      "F test two-sided p-value: 0.12\n"
     ]
    }
   ],
   "source": [
    "print('F test two-sided p-value: {:.2f}'.format(\n",
    "    2*np.min([F_VNJ_sigma2_percentile, 1-F_VNJ_sigma2_percentile])\n",
    ")\n",
    "     )"
   ]
  },
  {
   "cell_type": "markdown",
   "metadata": {},
   "source": [
    "The one-sided p-value for the hypothesis $H_{\\sigma^2}: \\sigma^2_1 \\leq \\sigma^2_2$ simply corresponds to the area in the lower tail of the distribution. This is because the statistic is $\\hat\\sigma^{2,LN}_2/\\hat\\sigma^{2,LN}_1$ so that smaller values work against our hypothesis. Thus, the rejection region is the lower tail.\n",
    "\n",
    "*Remark: in the paper, the one-sided hypothesis is given as $H_{\\sigma^2}: \\sigma^2_1 > \\sigma^2_2$. This is a mistake as this  corresponds to the alternative.*"
   ]
  },
  {
   "cell_type": "code",
   "execution_count": 16,
   "metadata": {},
   "outputs": [
    {
     "name": "stdout",
     "output_type": "stream",
     "text": [
      "F statistic one-sided p-value: 0.06\n"
     ]
    }
   ],
   "source": [
    "print('F statistic one-sided p-value: {:.2f}'.format(F_VNJ_sigma2_percentile))"
   ]
  },
  {
   "cell_type": "markdown",
   "metadata": {},
   "source": [
    "### Testing for common linear predictors\n",
    "\n",
    "We can move on to test for common linear predictors:\n",
    "$$ H_{\\mu, \\sigma^2}: \\sigma^2_1 = \\sigma^2_2 \\quad \\text{and} \\quad \\alpha_{i,\\ell} + \\beta_{j,\\ell} + \\delta_\\ell = \\alpha_i + \\beta_j + \\delta $$\n",
    "If we are happy to accept the hypothesis of common variances $H_{\\sigma^2}: \\sigma^2_1 = \\sigma^2_2$, we can test $H_{\\mu, \\sigma^2}: \\sigma^2_1$ with a simple $F$-test; corresponding to a reduction from $M^{LN}_{\\sigma^2}$ to $M^{LN}_{\\mu, \\sigma^2}$ The test is implemented in the package."
   ]
  },
  {
   "cell_type": "code",
   "execution_count": 17,
   "metadata": {},
   "outputs": [],
   "source": [
    "f_linpred_VNJ = apc.f_test(model_VNJ, [sub_model_VNJ_1, sub_model_VNJ_2])"
   ]
  },
  {
   "cell_type": "markdown",
   "metadata": {},
   "source": [
    "This returns the test statistic $F_\\mu^{LN}$ along with the p-value."
   ]
  },
  {
   "cell_type": "code",
   "execution_count": 18,
   "metadata": {},
   "outputs": [
    {
     "name": "stdout",
     "output_type": "stream",
     "text": [
      "F_stat: 0.24\n",
      "p_value: 0.91\n"
     ]
    }
   ],
   "source": [
    "for key, value in f_linpred_VNJ.items():\n",
    "    print('{}: {:.2f}'.format(key, value))"
   ]
  },
  {
   "cell_type": "markdown",
   "metadata": {},
   "source": [
    "These results, too, much those from the paper."
   ]
  },
  {
   "cell_type": "markdown",
   "metadata": {},
   "source": [
    "## 5.2 Over-dispersed Poisson Chain-Ladder\n",
    "\n",
    "This corresponds to Section 5.2 in the paper. The data are taken from Taylor and Ashe (1983). For this data, the desired full model is an over-dispersed Poisson model given by\n",
    "$$ M^{ODP}_{\\mu, \\sigma^2}: \\quad E(Y_{ij}) = \\exp(\\alpha_i + \\beta_j + \\delta), \\quad \\frac{\\mathrm{var}(Y_{ij})}{E(Y_{ij})} = \\sigma^2. $$\n",
    "We proceed just as we did above. First, we set up and estimate the full model and the sub-models. Second, we compute the Bartlett test for common over-dispersion. Third, we test for common linear predictors.\n",
    "\n",
    "Finally, we repeat the testing procedure for different sub-sample structures."
   ]
  },
  {
   "cell_type": "markdown",
   "metadata": {},
   "source": [
    "### Full model\n",
    "\n",
    "We set up and estimate the model $M^{ODP}_{\\mu, \\sigma^2}$ on the full data set."
   ]
  },
  {
   "cell_type": "code",
   "execution_count": 19,
   "metadata": {},
   "outputs": [
    {
     "name": "stdout",
     "output_type": "stream",
     "text": [
      "log-data variance full model: 52862\n",
      "degrees of freedom full model: 36\n"
     ]
    }
   ],
   "source": [
    "model_TA = apc.Model()\n",
    "\n",
    "model_TA.data_from_df(apc.data.pre_formatted.loss_TA(), data_format='CL')\n",
    "\n",
    "model_TA.fit('od_poisson_response', 'AC')\n",
    "\n",
    "print('log-data variance full model: {:.0f}'.format(model_TA.s2))\n",
    "print('degrees of freedom full model: {:.0f}'.format(model_TA.df_resid))"
   ]
  },
  {
   "cell_type": "markdown",
   "metadata": {},
   "source": [
    "### Sub-models\n",
    "\n",
    "We set up and estimate the models on the four sub-samples. Combined, these models correspond to $M^{ODP}$."
   ]
  },
  {
   "cell_type": "code",
   "execution_count": 20,
   "metadata": {},
   "outputs": [
    {
     "name": "stdout",
     "output_type": "stream",
     "text": [
      "Sub-sample I_1\n",
      "--------------\n",
      "over-dispersion: 31903\n",
      "degrees of freedom: 6\n",
      "\n",
      "Sub-sample I_2\n",
      "--------------\n",
      "over-dispersion: 168293\n",
      "degrees of freedom: 3\n",
      "\n",
      "Sub-sample I_3\n",
      "--------------\n",
      "over-dispersion: 104493\n",
      "degrees of freedom: 6\n",
      "\n",
      "Sub-sample I_4\n",
      "--------------\n",
      "over-dispersion: 17592\n",
      "degrees of freedom: 6\n",
      "\n",
      "Weighted avg of over-dispersion: 68038\n"
     ]
    }
   ],
   "source": [
    "sub_model_TA_1 = model_TA.sub_model(per_from_to=(1,5), fit=True)\n",
    "sub_model_TA_2 = model_TA.sub_model(coh_from_to=(1,5), age_from_to=(1,5),\n",
    "                                    per_from_to=(6,10), fit=True)\n",
    "sub_model_TA_3 = model_TA.sub_model(age_from_to=(6,10), fit=True)\n",
    "sub_model_TA_4 = model_TA.sub_model(coh_from_to=(6,10), fit=True)\n",
    "\n",
    "sub_models_TA = [sub_model_TA_1, sub_model_TA_2, \n",
    "                 sub_model_TA_3, sub_model_TA_4]\n",
    "\n",
    "for i, sm in enumerate(sub_models_TA):\n",
    "    print('Sub-sample I_{}'.format(i+1))\n",
    "    print('--------------')\n",
    "    print('over-dispersion: {:.0f}'.format(sm.s2))\n",
    "    print('degrees of freedom: {:.0f}\\n'.format(sm.df_resid))\n",
    "    \n",
    "s2_bar_TA = np.array([sm.s2 for sm in sub_models_TA]).dot(\n",
    "    np.array([sm.df_resid for sm in sub_models_TA])\n",
    ")/np.sum([sm.df_resid for sm in sub_models_TA])\n",
    "print('Weighted avg of over-dispersion: {:.0f}'.format(s2_bar_TA))"
   ]
  },
  {
   "cell_type": "markdown",
   "metadata": {},
   "source": [
    "### Testing for common over-dispersion\n",
    "\n",
    "We perform a Bartlett test for the hypothesis of common over-dispersion across sub-samples $H_{\\sigma^2}: \\sigma^2_\\ell = \\sigma^2$. This corresponds to testing a reduction from $M^{ODP}$ to $M^{ODP}_{\\sigma^2}$."
   ]
  },
  {
   "cell_type": "code",
   "execution_count": 21,
   "metadata": {},
   "outputs": [
    {
     "name": "stdout",
     "output_type": "stream",
     "text": [
      "B: 6.78\n",
      "LR: 7.37\n",
      "C: 1.09\n",
      "m: 4.00\n",
      "p_value: 0.08\n"
     ]
    }
   ],
   "source": [
    "bartlett_TA = apc.bartlett_test(sub_models_TA)\n",
    "\n",
    "for key, value in bartlett_TA.items():\n",
    "    print('{}: {:.2f}'.format(key, value))"
   ]
  },
  {
   "cell_type": "markdown",
   "metadata": {},
   "source": [
    "These results match those in the paper. The Bartlett test yields a p-value of 0.08."
   ]
  },
  {
   "cell_type": "markdown",
   "metadata": {},
   "source": [
    "### Testing for common linear predictors\n",
    "\n",
    "If we are happy to impose common over-dispersion, we can test for common linear predictors across sub-samples. Then, this corresponds to a reduction from $M^{ODP}_{\\sigma^2}$  to $M^{ODP}_{\\mu, \\sigma^2}$."
   ]
  },
  {
   "cell_type": "code",
   "execution_count": 22,
   "metadata": {},
   "outputs": [
    {
     "name": "stdout",
     "output_type": "stream",
     "text": [
      "F_stat: 0.46\n",
      "p_value: 0.93\n"
     ]
    }
   ],
   "source": [
    "f_linpred_TA = apc.f_test(model_TA, sub_models_TA)\n",
    "\n",
    "for key, value in f_linpred_TA.items():\n",
    "    print('{}: {:.2f}'.format(key, value))"
   ]
  },
  {
   "cell_type": "markdown",
   "metadata": {},
   "source": [
    "### Repeated testing\n",
    "\n",
    "In the paper, we also suggest a procedure to repeat the tests for different sub-sample structures, using a Bonferroni correction for size-control."
   ]
  },
  {
   "cell_type": "code",
   "execution_count": 23,
   "metadata": {},
   "outputs": [
    {
     "name": "stdout",
     "output_type": "stream",
     "text": [
      "Two sub-samples\n",
      "---------------\n",
      "Bartlett\n",
      "--------\n",
      "B: 2.89\n",
      "LR: 3.06\n",
      "C: 1.06\n",
      "m: 2.00\n",
      "p_value: 0.09\n",
      "\n",
      "F-test\n",
      "------\n",
      "F_stat: 0.63\n",
      "p_value: 0.64\n",
      "\n",
      "Three sub-samples\n",
      "-----------------\n",
      "Bartlett\n",
      "--------\n",
      "B: 1.27\n",
      "LR: 1.40\n",
      "C: 1.10\n",
      "m: 3.00\n",
      "p_value: 0.53\n",
      "\n",
      "F-test\n",
      "------\n",
      "F_stat: 1.84\n",
      "p_value: 0.11\n"
     ]
    }
   ],
   "source": [
    "sub_models_TA_2 = [model_TA.sub_model(coh_from_to=(1,5), fit=True),\n",
    "                   model_TA.sub_model(coh_from_to=(6,10), fit=True)]\n",
    "\n",
    "sub_models_TA_3 = [model_TA.sub_model(per_from_to=(1,4), fit=True),\n",
    "                   model_TA.sub_model(per_from_to=(5,7), fit=True),\n",
    "                   model_TA.sub_model(per_from_to=(8,10), fit=True)]\n",
    "\n",
    "print('Two sub-samples')\n",
    "print('---------------')\n",
    "print('Bartlett')\n",
    "print('--------')\n",
    "for key, value in apc.bartlett_test(sub_models_TA_2).items():\n",
    "    print('{}: {:.2f}'.format(key, value))\n",
    "\n",
    "print('\\nF-test')\n",
    "print('------')\n",
    "for key, value in apc.f_test(model_TA, sub_models_TA_2).items():\n",
    "    print('{}: {:.2f}'.format(key, value))\n",
    "    \n",
    "print('\\nThree sub-samples')\n",
    "print('-----------------')\n",
    "print('Bartlett')\n",
    "print('--------')\n",
    "for key, value in apc.bartlett_test(sub_models_TA_3).items():\n",
    "    print('{}: {:.2f}'.format(key, value))\n",
    "\n",
    "print('\\nF-test')\n",
    "print('------')\n",
    "for key, value in apc.f_test(model_TA, sub_models_TA_3).items():\n",
    "    print('{}: {:.2f}'.format(key, value))"
   ]
  },
  {
   "cell_type": "markdown",
   "metadata": {},
   "source": [
    "The test results match those in the paper. \n",
    "\n",
    "*For a quick refresher on the Bonferroni correction we turn to [Wikipedia](https://en.wikipedia.org/wiki/Bonferroni_correction). The idea is to control the family wise error rate, the probability of rejecting at least one null hypothesis when the null is true.*\n",
    "\n",
    "*In our scenario, we repeat testing three times. Each individual repetition is comprised of two sequential tests: a Bartlett and an $F$-test. \n",
    "Under the null hypothesis (so the true model is $M_{\\mu, \\sigma^2}^{ODP}$), the two tests are independent so*\n",
    "$$P(\\text{reject $F$-test } | \\text{ not-reject Bartlett test}) = P(\\text{reject $F$-test}).$$\n",
    "*Thus, if we test at level $\\alpha$, the probability to reject at least once within a repetition is not $\\alpha$ but $1-(1-\\alpha)^2 \\approx 2\\alpha$:*\n",
    "$$ P(\\text{Reject Bartlett or F-test at level }\\alpha \\text{ for a given split}) \\approx 2 \\alpha .$$\n",
    "*For thrice repeated testing, we replace $\\alpha$ by $\\alpha/3$. Then, we bound the probability to reject when the null is true with*\n",
    "$$ P\\left\\{\\cup_{i=1}^3\\left(\\text{Reject Bartlett or F-test at level } \\frac{\\alpha}{3} \\text{ for split }i\\right)\\right\\} \\leq 2\\alpha \\quad \\text{(approximately)} .$$"
   ]
  },
  {
   "cell_type": "markdown",
   "metadata": {},
   "source": [
    "## 5.3 Log-Normal (Extended) Chain-Ladder\n",
    "\n",
    "This corresponds to Section 5.3 in the paper. The data are taken from Barnett and Zehnwirth (2000). These data are commonly modeled with a calendar effect. We consider misspecification tests both for a model without $M^{LN}$ and with $M^{LNe}$ a calendar effect $\\gamma$. The models are given by\n",
    "$$ M^{LN}_{\\mu, \\sigma^2}: \\quad \\log(Y_{ij}) \\stackrel{D}{=} N(\\alpha_i + \\beta_j + \\delta, \\sigma^2)$$\n",
    "and\n",
    "$$ M^{LNe}_{\\mu, \\sigma^2}: \\quad \\log(Y_{ij}) \\stackrel{D}{=} N(\\alpha_i + \\beta_j + \\gamma_k + \\delta, \\sigma^2). $$"
   ]
  },
  {
   "cell_type": "markdown",
   "metadata": {},
   "source": [
    "### No calendar effect\n",
    "\n",
    "We set up and estimate the model $M^{LN}_{\\mu, \\sigma^2}$ on the full data set."
   ]
  },
  {
   "cell_type": "code",
   "execution_count": 24,
   "metadata": {},
   "outputs": [
    {
     "name": "stdout",
     "output_type": "stream",
     "text": [
      "log-data variance full model: 0.0068\n",
      "degrees of freedom full model: 45\n"
     ]
    }
   ],
   "source": [
    "model_BZ = apc.Model()\n",
    "\n",
    "model_BZ.data_from_df(apc.data.pre_formatted.loss_BZ(), time_adjust=1, data_format='CL')\n",
    "\n",
    "model_BZ.fit('log_normal_response', 'AC')\n",
    "\n",
    "print('log-data variance full model: {:.4f}'.format(model_BZ.s2))\n",
    "print('degrees of freedom full model: {:.0f}'.format(model_BZ.df_resid))"
   ]
  },
  {
   "cell_type": "markdown",
   "metadata": {},
   "source": [
    "Next, the models for the sub-samples."
   ]
  },
  {
   "cell_type": "code",
   "execution_count": 25,
   "metadata": {},
   "outputs": [
    {
     "name": "stdout",
     "output_type": "stream",
     "text": [
      "Sub-sample I_1\n",
      "--------------\n",
      "over-dispersion: 0.0002\n",
      "degrees of freedom: 6\n",
      "\n",
      "Sub-sample I_2\n",
      "--------------\n",
      "over-dispersion: 0.0013\n",
      "degrees of freedom: 6\n",
      "\n",
      "Sub-sample I_3\n",
      "--------------\n",
      "over-dispersion: 0.0015\n",
      "degrees of freedom: 9\n",
      "\n",
      "Weighted avg of over-dispersion: 0.0011\n"
     ]
    }
   ],
   "source": [
    "sub_models_BZ = [model_BZ.sub_model(per_from_to=(1977,1981), fit=True),\n",
    "                 model_BZ.sub_model(per_from_to=(1982,1984), fit=True), \n",
    "                 model_BZ.sub_model(per_from_to=(1985,1987), fit=True)]\n",
    "\n",
    "for i, sm in enumerate(sub_models_BZ):\n",
    "    print('Sub-sample I_{}'.format(i+1))\n",
    "    print('--------------')\n",
    "    print('over-dispersion: {:.4f}'.format(sm.s2))\n",
    "    print('degrees of freedom: {:.0f}\\n'.format(sm.df_resid))\n",
    "    \n",
    "s2_bar_BZ = np.array([sm.s2 for sm in sub_models_BZ]).dot(\n",
    "    np.array([sm.df_resid for sm in sub_models_BZ])\n",
    ")/np.sum([sm.df_resid for sm in sub_models_BZ])\n",
    "print('Weighted avg of over-dispersion: {:.4f}'.format(s2_bar_BZ))"
   ]
  },
  {
   "cell_type": "markdown",
   "metadata": {},
   "source": [
    "We move on the Bartlett test for the hypothesis of common log-data variances across sub-samples $H_{\\sigma^2}: \\sigma^2_\\ell = \\sigma^2$."
   ]
  },
  {
   "cell_type": "code",
   "execution_count": 26,
   "metadata": {},
   "outputs": [
    {
     "name": "stdout",
     "output_type": "stream",
     "text": [
      "B: 6.06\n",
      "LR: 6.47\n",
      "C: 1.07\n",
      "m: 3.00\n",
      "p_value: 0.05\n"
     ]
    }
   ],
   "source": [
    "bartlett_BZ = apc.bartlett_test(sub_models_BZ)\n",
    "\n",
    "for key, value in bartlett_BZ.items():\n",
    "    print('{}: {:.2f}'.format(key, value))"
   ]
  },
  {
   "cell_type": "markdown",
   "metadata": {},
   "source": [
    "The Bartlett test yields a p-value of 0.05 as in the paper."
   ]
  },
  {
   "cell_type": "markdown",
   "metadata": {},
   "source": [
    "We test for common linear predictors across sub-samples."
   ]
  },
  {
   "cell_type": "code",
   "execution_count": 27,
   "metadata": {},
   "outputs": [
    {
     "name": "stdout",
     "output_type": "stream",
     "text": [
      "F_stat: 11.20\n",
      "p_value: 0.00\n"
     ]
    }
   ],
   "source": [
    "f_linpred_BZ = apc.f_test(model_BZ, sub_models_BZ)\n",
    "\n",
    "for key, value in f_linpred_BZ.items():\n",
    "    print('{}: {:.2f}'.format(key, value))"
   ]
  },
  {
   "cell_type": "markdown",
   "metadata": {},
   "source": [
    "### Calendar effect\n",
    "\n",
    "Now we redo the same for the model with calendar effect."
   ]
  },
  {
   "cell_type": "code",
   "execution_count": 28,
   "metadata": {},
   "outputs": [
    {
     "name": "stdout",
     "output_type": "stream",
     "text": [
      "log-data variance full model: 0.0014\n",
      "degrees of freedom full model: 36\n",
      "Sub-sample I_1\n",
      "--------------\n",
      "over-dispersion: 0.0003\n",
      "degrees of freedom: 3\n",
      "\n",
      "Sub-sample I_2\n",
      "--------------\n",
      "over-dispersion: 0.0013\n",
      "degrees of freedom: 5\n",
      "\n",
      "Sub-sample I_3\n",
      "--------------\n",
      "over-dispersion: 0.0016\n",
      "degrees of freedom: 8\n",
      "\n",
      "Weighted avg of log-data variances: 0.0013\n",
      "\n",
      "Bartlett test\n",
      "-------------\n",
      "B: 2.06\n",
      "LR: 2.27\n",
      "C: 1.10\n",
      "m: 3.00\n",
      "p_value: 0.36\n",
      "\n",
      "F-test\n",
      "------\n",
      "F_stat: 1.13\n",
      "p_value: 0.41\n"
     ]
    }
   ],
   "source": [
    "model_BZe = apc.Model()\n",
    "\n",
    "model_BZe.data_from_df(apc.data.pre_formatted.loss_BZ(), time_adjust=1, data_format='CL')\n",
    "\n",
    "model_BZe.fit('log_normal_response', 'APC') # The only change is in this line. \n",
    "\n",
    "print('log-data variance full model: {:.4f}'.format(model_BZe.s2))\n",
    "print('degrees of freedom full model: {:.0f}'.format(model_BZe.df_resid))\n",
    "\n",
    "sub_models_BZe = [model_BZe.sub_model(per_from_to=(1977,1981), fit=True),\n",
    "                 model_BZe.sub_model(per_from_to=(1982,1984), fit=True), \n",
    "                 model_BZe.sub_model(per_from_to=(1985,1987), fit=True)]\n",
    "\n",
    "for i, sm in enumerate(sub_models_BZe):\n",
    "    print('Sub-sample I_{}'.format(i+1))\n",
    "    print('--------------')\n",
    "    print('over-dispersion: {:.4f}'.format(sm.s2))\n",
    "    print('degrees of freedom: {:.0f}\\n'.format(sm.df_resid))\n",
    "    \n",
    "s2_bar_BZe = np.array([sm.s2 for sm in sub_models_BZe]).dot(\n",
    "    np.array([sm.df_resid for sm in sub_models_BZe])\n",
    ")/np.sum([sm.df_resid for sm in sub_models_BZe])\n",
    "print('Weighted avg of log-data variances: {:.4f}'.format(s2_bar_BZe))\n",
    "\n",
    "bartlett_BZe = apc.bartlett_test(sub_models_BZe)\n",
    "\n",
    "print('\\nBartlett test')\n",
    "print('-------------')\n",
    "\n",
    "for key, value in bartlett_BZe.items():\n",
    "    print('{}: {:.2f}'.format(key, value))\n",
    "\n",
    "print('\\nF-test')\n",
    "print('------')\n",
    "    \n",
    "f_linpred_BZe = apc.f_test(model_BZe, sub_models_BZe)\n",
    "\n",
    "for key, value in f_linpred_BZe.items():\n",
    "    print('{}: {:.2f}'.format(key, value))"
   ]
  },
  {
   "cell_type": "markdown",
   "metadata": {},
   "source": [
    "With this, we replicated Figure 4b."
   ]
  },
  {
   "cell_type": "markdown",
   "metadata": {},
   "source": [
    "### Closer look at the effect of dropping the calendar effect \n",
    "\n",
    "In the paper, we move on to take a closer look at the effect of dropping the calendar effect. We do so in two ways starting with $$M^{LNe}_{\\sigma^2}: \\stackrel{D}{=} N(\\alpha_{i, \\ell} + \\beta_{j, \\ell} + \\gamma_{k, \\ell} + \\delta_\\ell, \\sigma^2).$$ \n",
    "We want to test for a reduction to \n",
    "$$M^{LN}_{\\mu, \\sigma^2}: \\stackrel{D}{=} N(\\alpha_i + \\beta_j + \\delta, \\sigma^2).$$ \n",
    "In the figure below, we illustrate two different testing procedures that would get us to there. \n",
    "\n",
    "<center>\n",
    "    <img src=\"https://user-images.githubusercontent.com/25103918/41599423-27d94fec-73a1-11e8-9fe1-3f3a1a9e184a.png\" \n",
    "         alt=\"Two ways to test for reduction to the same model\"\n",
    "         width=\"400px\"/>\n",
    "</center>\n",
    "\n",
    "\n",
    "1. We can move down, testing $H^{LNe}_{\\sigma^2, \\mu}$, and then right, testing $H_\\gamma: \\gamma_k = 0$\n",
    "2. We can move right, testing $H_{\\gamma_{k, \\ell}}: \\gamma_{k, \\ell} = 0$, and then down, testing $H^{LN}_{\\sigma^2, \\mu}$"
   ]
  },
  {
   "cell_type": "markdown",
   "metadata": {},
   "source": [
    "Looking at the first way, we already saw that $H_{\\gamma_{k, \\ell}}: \\gamma_{k, \\ell} = 0$ cannot be rejected. To test for the absence of a calendar effect, we can do an (exact) $F$ test. "
   ]
  },
  {
   "cell_type": "code",
   "execution_count": 29,
   "metadata": {},
   "outputs": [
    {
     "data": {
      "text/html": [
       "<div>\n",
       "<style scoped>\n",
       "    .dataframe tbody tr th:only-of-type {\n",
       "        vertical-align: middle;\n",
       "    }\n",
       "\n",
       "    .dataframe tbody tr th {\n",
       "        vertical-align: top;\n",
       "    }\n",
       "\n",
       "    .dataframe thead th {\n",
       "        text-align: right;\n",
       "    }\n",
       "</style>\n",
       "<table border=\"1\" class=\"dataframe\">\n",
       "  <thead>\n",
       "    <tr style=\"text-align: right;\">\n",
       "      <th></th>\n",
       "      <th>-2logL</th>\n",
       "      <th>df_resid</th>\n",
       "      <th>LR_vs_APC</th>\n",
       "      <th>df_vs_APC</th>\n",
       "      <th>F_vs_APC</th>\n",
       "      <th>P&gt;F</th>\n",
       "      <th>aic</th>\n",
       "    </tr>\n",
       "  </thead>\n",
       "  <tbody>\n",
       "    <tr>\n",
       "      <th>AC</th>\n",
       "      <td>-166.967</td>\n",
       "      <td>45</td>\n",
       "      <td>120.492</td>\n",
       "      <td>9</td>\n",
       "      <td>20.8271</td>\n",
       "      <td>9.59281e-12</td>\n",
       "      <td>-124.967</td>\n",
       "    </tr>\n",
       "  </tbody>\n",
       "</table>\n",
       "</div>"
      ],
      "text/plain": [
       "     -2logL df_resid LR_vs_APC df_vs_APC F_vs_APC          P>F      aic\n",
       "AC -166.967       45   120.492         9  20.8271  9.59281e-12 -124.967"
      ]
     },
     "execution_count": 29,
     "metadata": {},
     "output_type": "execute_result"
    }
   ],
   "source": [
    "model_BZe.fit_table(attach_to_self=False).loc[['AC']]"
   ]
  },
  {
   "cell_type": "markdown",
   "metadata": {},
   "source": [
    "We see that the p-value (```P>F```) is close to zero."
   ]
  },
  {
   "cell_type": "markdown",
   "metadata": {},
   "source": [
    "Next, we consider the second way. We first test $H_{\\gamma_{k, \\ell}}$. Since $\\sigma^2$ is common across the array from the outset, we can do this with a simple $F$-test:\n",
    "$$ \\frac{(RSS_.^{LN} - RSS_.^{LNe})/(df_.^{LN} - df_.^{LNe})}{RSS_.^{LNe}/df_.^{LNe}} \\stackrel{D}{=} F_{df_.^{LN} - df_.^{LNe}, df_.^{LNe}} $$ "
   ]
  },
  {
   "cell_type": "code",
   "execution_count": 30,
   "metadata": {},
   "outputs": [
    {
     "name": "stdout",
     "output_type": "stream",
     "text": [
      "p-value of F-test: 0.92\n"
     ]
    }
   ],
   "source": [
    "rss_BZe_dot = np.sum([sub.rss for sub in sub_models_BZe])\n",
    "rss_BZ_dot = np.sum([sub.rss for sub in sub_models_BZ])\n",
    "df_BZe_dot = np.sum([sub.df_resid for sub in sub_models_BZe])\n",
    "df_BZ_dot = np.sum([sub.df_resid for sub in sub_models_BZ])\n",
    "\n",
    "F_BZ = ((rss_BZ_dot - rss_BZe_dot)/(df_BZ_dot - df_BZe_dot)) / (rss_BZe_dot/df_BZe_dot)\n",
    "p_F_BZ = stats.f.sf(F_BZ, dfn=df_BZ_dot - df_BZe_dot, dfd=df_BZe_dot)\n",
    "print('p-value of F-test: {:.2f}'.format(p_F_BZ))"
   ]
  },
  {
   "cell_type": "markdown",
   "metadata": {},
   "source": [
    "Thus this is not rejected. However, we already saw that a reduction from $M^{LN}_{\\sigma^2}$ to $M^{LN}_{\\mu, \\sigma^2}$ is rejected."
   ]
  },
  {
   "cell_type": "markdown",
   "metadata": {},
   "source": [
    "### Repeated testing\n",
    "\n",
    "Just as for the Taylor and Ashe (1983) data, we repeat testing for different splits."
   ]
  },
  {
   "cell_type": "code",
   "execution_count": 31,
   "metadata": {},
   "outputs": [
    {
     "name": "stdout",
     "output_type": "stream",
     "text": [
      "Two sub-samples\n",
      "---------------\n",
      "Bartlett\n",
      "--------\n",
      "B: 5.678\n",
      "LR: 6.013\n",
      "C: 1.059\n",
      "m: 2.000\n",
      "p_value: 0.017\n",
      "\n",
      "F-test\n",
      "------\n",
      "F_stat: 3.663\n",
      "p_value: 0.004\n",
      "\n",
      "Four sub-samples\n",
      "----------------\n",
      "Bartlett\n",
      "--------\n",
      "B: 8.66\n",
      "LR: 9.72\n",
      "C: 1.12\n",
      "m: 4.00\n",
      "p_value: 0.03\n",
      "\n",
      "F-test\n",
      "------\n",
      "F_stat: 2.28\n",
      "p_value: 0.05\n"
     ]
    }
   ],
   "source": [
    "sub_models_BZe_2 = [model_BZe.sub_model(coh_from_to=(1977,1981), fit=True),\n",
    "                    model_BZe.sub_model(coh_from_to=(1982,1987), fit=True)]\n",
    "\n",
    "sub_models_BZe_4 = [model_BZe.sub_model(per_from_to=(1977,1981), fit=True), \n",
    "                    model_BZe.sub_model(coh_from_to=(1977,1982), age_from_to=(1,5),\n",
    "                                        per_from_to=(1982,1987), fit=True),\n",
    "                    model_BZe.sub_model(age_from_to=(6,11), fit=True),\n",
    "                    model_BZe.sub_model(coh_from_to=(1983,19871), fit=True)]\n",
    "                    \n",
    "print('Two sub-samples')\n",
    "print('---------------')\n",
    "print('Bartlett')\n",
    "print('--------')\n",
    "for key, value in apc.bartlett_test(sub_models_BZe_2).items():\n",
    "    print('{}: {:.3f}'.format(key, value))\n",
    "\n",
    "print('\\nF-test')\n",
    "print('------')\n",
    "for key, value in apc.f_test(model_BZe, sub_models_BZe_2).items():\n",
    "    print('{}: {:.3f}'.format(key, value))\n",
    "    \n",
    "print('\\nFour sub-samples')\n",
    "print('----------------')\n",
    "print('Bartlett')\n",
    "print('--------')\n",
    "for key, value in apc.bartlett_test(sub_models_BZe_4).items():\n",
    "    print('{}: {:.2f}'.format(key, value))\n",
    "\n",
    "print('\\nF-test')\n",
    "print('------')\n",
    "for key, value in apc.f_test(model_BZe, sub_models_BZe_4).items():\n",
    "    print('{}: {:.2f}'.format(key, value))"
   ]
  },
  {
   "cell_type": "markdown",
   "metadata": {},
   "source": [
    "Again, we replicated the results from the paper."
   ]
  },
  {
   "cell_type": "markdown",
   "metadata": {},
   "source": [
    "## References\n",
    "\n",
    "* Barnett, G., & Zehnwirth, B. (2000). Best estimates for reserves. *Proceedings of the Casualty Actuarial Society*, 87(167), 245–321.\n",
    "* Harnau, J. (2018). Misspecification Tests for Log-Normal and Over-Dispersed Poisson Chain-Ladder Models. *Risks*, 6(2), 25. \n",
    "* Kuang, D., Nielsen, B., & Nielsen, J. P. (2015). The geometric chain-ladder. *Scandinavian Actuarial Journal*, 2015(3), 278–300.\n",
    "* Taylor, G. C., & Ashe, F. R. (1983). Second moments of estimates of outstanding claims. *Journal of Econometrics*, 23(1), 37–61. \n",
    "* Verrall, R., Nielsen, J. P., & Jessen, A. H. (2010). Prediction of RBNS and IBNR claims using claim amounts and claim counts. *ASTIN Bulletin*, 40(2), 871–887."
   ]
  }
 ],
 "metadata": {
  "kernelspec": {
   "display_name": "Python 3",
   "language": "python",
   "name": "python3"
  },
  "language_info": {
   "codemirror_mode": {
    "name": "ipython",
    "version": 3
   },
   "file_extension": ".py",
   "mimetype": "text/x-python",
   "name": "python",
   "nbconvert_exporter": "python",
   "pygments_lexer": "ipython3",
   "version": "3.6.6"
  }
 },
 "nbformat": 4,
 "nbformat_minor": 2
}
